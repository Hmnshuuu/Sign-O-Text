{
 "cells": [
  {
   "cell_type": "code",
   "execution_count": 1,
   "id": "3af2c854",
   "metadata": {},
   "outputs": [
    {
     "name": "stdout",
     "output_type": "stream",
     "text": [
      "Requirement already satisfied: flask in c:\\users\\himanshu\\anaconda3\\lib\\site-packages (2.2.2)\n",
      "Collecting pyngrok\n",
      "  Downloading pyngrok-7.0.1.tar.gz (731 kB)\n",
      "     ---------------------------------------- 0.0/731.8 kB ? eta -:--:--\n",
      "     ---- ---------------------------------- 92.2/731.8 kB 1.7 MB/s eta 0:00:01\n",
      "     ---------- --------------------------- 194.6/731.8 kB 2.4 MB/s eta 0:00:01\n",
      "     ---------- --------------------------- 194.6/731.8 kB 2.4 MB/s eta 0:00:01\n",
      "     ---------- --------------------------- 194.6/731.8 kB 2.4 MB/s eta 0:00:01\n",
      "     ---------------- --------------------- 317.4/731.8 kB 1.4 MB/s eta 0:00:01\n",
      "     ------------------ ------------------- 348.2/731.8 kB 1.4 MB/s eta 0:00:01\n",
      "     -------------------------- ----------- 512.0/731.8 kB 1.6 MB/s eta 0:00:01\n",
      "     ------------------------------- ------ 614.4/731.8 kB 1.7 MB/s eta 0:00:01\n",
      "     -------------------------------------  727.0/731.8 kB 1.8 MB/s eta 0:00:01\n",
      "     -------------------------------------- 731.8/731.8 kB 1.7 MB/s eta 0:00:00\n",
      "  Preparing metadata (setup.py): started\n",
      "  Preparing metadata (setup.py): finished with status 'done'\n",
      "Requirement already satisfied: opencv-python in c:\\users\\himanshu\\anaconda3\\lib\\site-packages (4.8.1.78)\n",
      "Requirement already satisfied: mediapipe in c:\\users\\himanshu\\anaconda3\\lib\\site-packages (0.10.5)\n",
      "Requirement already satisfied: tensorflow in c:\\users\\himanshu\\anaconda3\\lib\\site-packages (2.14.0)\n",
      "Requirement already satisfied: Werkzeug>=2.2.2 in c:\\users\\himanshu\\anaconda3\\lib\\site-packages (from flask) (2.2.3)\n",
      "Requirement already satisfied: Jinja2>=3.0 in c:\\users\\himanshu\\anaconda3\\lib\\site-packages (from flask) (3.1.2)\n",
      "Requirement already satisfied: itsdangerous>=2.0 in c:\\users\\himanshu\\anaconda3\\lib\\site-packages (from flask) (2.0.1)\n",
      "Requirement already satisfied: click>=8.0 in c:\\users\\himanshu\\anaconda3\\lib\\site-packages (from flask) (8.0.4)\n",
      "Requirement already satisfied: PyYAML in c:\\users\\himanshu\\anaconda3\\lib\\site-packages (from pyngrok) (6.0)\n",
      "Requirement already satisfied: numpy>=1.21.2 in c:\\users\\himanshu\\anaconda3\\lib\\site-packages (from opencv-python) (1.24.3)\n",
      "Requirement already satisfied: absl-py in c:\\users\\himanshu\\anaconda3\\lib\\site-packages (from mediapipe) (2.0.0)\n",
      "Requirement already satisfied: attrs>=19.1.0 in c:\\users\\himanshu\\anaconda3\\lib\\site-packages (from mediapipe) (22.1.0)\n",
      "Requirement already satisfied: flatbuffers>=2.0 in c:\\users\\himanshu\\anaconda3\\lib\\site-packages (from mediapipe) (23.5.26)\n",
      "Requirement already satisfied: matplotlib in c:\\users\\himanshu\\anaconda3\\lib\\site-packages (from mediapipe) (3.7.1)\n",
      "Requirement already satisfied: opencv-contrib-python in c:\\users\\himanshu\\anaconda3\\lib\\site-packages (from mediapipe) (4.8.1.78)\n",
      "Requirement already satisfied: protobuf<4,>=3.11 in c:\\users\\himanshu\\anaconda3\\lib\\site-packages (from mediapipe) (3.20.3)\n",
      "Requirement already satisfied: sounddevice>=0.4.4 in c:\\users\\himanshu\\anaconda3\\lib\\site-packages (from mediapipe) (0.4.6)\n",
      "Requirement already satisfied: tensorflow-intel==2.14.0 in c:\\users\\himanshu\\anaconda3\\lib\\site-packages (from tensorflow) (2.14.0)\n",
      "Requirement already satisfied: astunparse>=1.6.0 in c:\\users\\himanshu\\anaconda3\\lib\\site-packages (from tensorflow-intel==2.14.0->tensorflow) (1.6.3)\n",
      "Requirement already satisfied: gast!=0.5.0,!=0.5.1,!=0.5.2,>=0.2.1 in c:\\users\\himanshu\\anaconda3\\lib\\site-packages (from tensorflow-intel==2.14.0->tensorflow) (0.5.4)\n",
      "Requirement already satisfied: google-pasta>=0.1.1 in c:\\users\\himanshu\\anaconda3\\lib\\site-packages (from tensorflow-intel==2.14.0->tensorflow) (0.2.0)\n",
      "Requirement already satisfied: h5py>=2.9.0 in c:\\users\\himanshu\\anaconda3\\lib\\site-packages (from tensorflow-intel==2.14.0->tensorflow) (3.7.0)\n",
      "Requirement already satisfied: libclang>=13.0.0 in c:\\users\\himanshu\\anaconda3\\lib\\site-packages (from tensorflow-intel==2.14.0->tensorflow) (16.0.6)\n",
      "Requirement already satisfied: ml-dtypes==0.2.0 in c:\\users\\himanshu\\anaconda3\\lib\\site-packages (from tensorflow-intel==2.14.0->tensorflow) (0.2.0)\n",
      "Requirement already satisfied: opt-einsum>=2.3.2 in c:\\users\\himanshu\\anaconda3\\lib\\site-packages (from tensorflow-intel==2.14.0->tensorflow) (3.3.0)\n",
      "Requirement already satisfied: packaging in c:\\users\\himanshu\\anaconda3\\lib\\site-packages (from tensorflow-intel==2.14.0->tensorflow) (23.0)\n",
      "Requirement already satisfied: setuptools in c:\\users\\himanshu\\anaconda3\\lib\\site-packages (from tensorflow-intel==2.14.0->tensorflow) (68.2.2)\n",
      "Requirement already satisfied: six>=1.12.0 in c:\\users\\himanshu\\anaconda3\\lib\\site-packages (from tensorflow-intel==2.14.0->tensorflow) (1.16.0)\n",
      "Requirement already satisfied: termcolor>=1.1.0 in c:\\users\\himanshu\\anaconda3\\lib\\site-packages (from tensorflow-intel==2.14.0->tensorflow) (2.3.0)\n",
      "Requirement already satisfied: typing-extensions>=3.6.6 in c:\\users\\himanshu\\anaconda3\\lib\\site-packages (from tensorflow-intel==2.14.0->tensorflow) (4.7.1)\n",
      "Requirement already satisfied: wrapt<1.15,>=1.11.0 in c:\\users\\himanshu\\anaconda3\\lib\\site-packages (from tensorflow-intel==2.14.0->tensorflow) (1.14.1)\n",
      "Requirement already satisfied: tensorflow-io-gcs-filesystem>=0.23.1 in c:\\users\\himanshu\\anaconda3\\lib\\site-packages (from tensorflow-intel==2.14.0->tensorflow) (0.31.0)\n",
      "Requirement already satisfied: grpcio<2.0,>=1.24.3 in c:\\users\\himanshu\\anaconda3\\lib\\site-packages (from tensorflow-intel==2.14.0->tensorflow) (1.59.0)\n",
      "Requirement already satisfied: tensorboard<2.15,>=2.14 in c:\\users\\himanshu\\anaconda3\\lib\\site-packages (from tensorflow-intel==2.14.0->tensorflow) (2.14.1)\n",
      "Requirement already satisfied: tensorflow-estimator<2.15,>=2.14.0 in c:\\users\\himanshu\\anaconda3\\lib\\site-packages (from tensorflow-intel==2.14.0->tensorflow) (2.14.0)\n",
      "Requirement already satisfied: keras<2.15,>=2.14.0 in c:\\users\\himanshu\\anaconda3\\lib\\site-packages (from tensorflow-intel==2.14.0->tensorflow) (2.14.0)\n",
      "Requirement already satisfied: colorama in c:\\users\\himanshu\\anaconda3\\lib\\site-packages (from click>=8.0->flask) (0.4.6)\n",
      "Requirement already satisfied: MarkupSafe>=2.0 in c:\\users\\himanshu\\anaconda3\\lib\\site-packages (from Jinja2>=3.0->flask) (2.1.1)\n",
      "Requirement already satisfied: CFFI>=1.0 in c:\\users\\himanshu\\anaconda3\\lib\\site-packages (from sounddevice>=0.4.4->mediapipe) (1.15.1)\n",
      "Requirement already satisfied: contourpy>=1.0.1 in c:\\users\\himanshu\\anaconda3\\lib\\site-packages (from matplotlib->mediapipe) (1.0.5)\n",
      "Requirement already satisfied: cycler>=0.10 in c:\\users\\himanshu\\anaconda3\\lib\\site-packages (from matplotlib->mediapipe) (0.11.0)\n",
      "Requirement already satisfied: fonttools>=4.22.0 in c:\\users\\himanshu\\anaconda3\\lib\\site-packages (from matplotlib->mediapipe) (4.25.0)\n",
      "Requirement already satisfied: kiwisolver>=1.0.1 in c:\\users\\himanshu\\anaconda3\\lib\\site-packages (from matplotlib->mediapipe) (1.4.4)\n",
      "Requirement already satisfied: pillow>=6.2.0 in c:\\users\\himanshu\\anaconda3\\lib\\site-packages (from matplotlib->mediapipe) (9.4.0)\n",
      "Requirement already satisfied: pyparsing>=2.3.1 in c:\\users\\himanshu\\anaconda3\\lib\\site-packages (from matplotlib->mediapipe) (3.0.9)\n",
      "Requirement already satisfied: python-dateutil>=2.7 in c:\\users\\himanshu\\anaconda3\\lib\\site-packages (from matplotlib->mediapipe) (2.8.2)\n",
      "Requirement already satisfied: wheel<1.0,>=0.23.0 in c:\\users\\himanshu\\anaconda3\\lib\\site-packages (from astunparse>=1.6.0->tensorflow-intel==2.14.0->tensorflow) (0.38.4)\n",
      "Requirement already satisfied: pycparser in c:\\users\\himanshu\\anaconda3\\lib\\site-packages (from CFFI>=1.0->sounddevice>=0.4.4->mediapipe) (2.21)\n",
      "Requirement already satisfied: google-auth<3,>=1.6.3 in c:\\users\\himanshu\\anaconda3\\lib\\site-packages (from tensorboard<2.15,>=2.14->tensorflow-intel==2.14.0->tensorflow) (2.23.2)\n",
      "Requirement already satisfied: google-auth-oauthlib<1.1,>=0.5 in c:\\users\\himanshu\\anaconda3\\lib\\site-packages (from tensorboard<2.15,>=2.14->tensorflow-intel==2.14.0->tensorflow) (1.0.0)\n",
      "Requirement already satisfied: markdown>=2.6.8 in c:\\users\\himanshu\\anaconda3\\lib\\site-packages (from tensorboard<2.15,>=2.14->tensorflow-intel==2.14.0->tensorflow) (3.4.1)\n",
      "Requirement already satisfied: requests<3,>=2.21.0 in c:\\users\\himanshu\\anaconda3\\lib\\site-packages (from tensorboard<2.15,>=2.14->tensorflow-intel==2.14.0->tensorflow) (2.31.0)\n",
      "Requirement already satisfied: tensorboard-data-server<0.8.0,>=0.7.0 in c:\\users\\himanshu\\anaconda3\\lib\\site-packages (from tensorboard<2.15,>=2.14->tensorflow-intel==2.14.0->tensorflow) (0.7.1)\n",
      "Requirement already satisfied: cachetools<6.0,>=2.0.0 in c:\\users\\himanshu\\anaconda3\\lib\\site-packages (from google-auth<3,>=1.6.3->tensorboard<2.15,>=2.14->tensorflow-intel==2.14.0->tensorflow) (5.3.1)\n",
      "Requirement already satisfied: pyasn1-modules>=0.2.1 in c:\\users\\himanshu\\anaconda3\\lib\\site-packages (from google-auth<3,>=1.6.3->tensorboard<2.15,>=2.14->tensorflow-intel==2.14.0->tensorflow) (0.2.8)\n",
      "Requirement already satisfied: rsa<5,>=3.1.4 in c:\\users\\himanshu\\anaconda3\\lib\\site-packages (from google-auth<3,>=1.6.3->tensorboard<2.15,>=2.14->tensorflow-intel==2.14.0->tensorflow) (4.9)\n",
      "Requirement already satisfied: requests-oauthlib>=0.7.0 in c:\\users\\himanshu\\anaconda3\\lib\\site-packages (from google-auth-oauthlib<1.1,>=0.5->tensorboard<2.15,>=2.14->tensorflow-intel==2.14.0->tensorflow) (1.3.1)\n",
      "Requirement already satisfied: charset-normalizer<4,>=2 in c:\\users\\himanshu\\anaconda3\\lib\\site-packages (from requests<3,>=2.21.0->tensorboard<2.15,>=2.14->tensorflow-intel==2.14.0->tensorflow) (2.0.4)\n",
      "Requirement already satisfied: idna<4,>=2.5 in c:\\users\\himanshu\\anaconda3\\lib\\site-packages (from requests<3,>=2.21.0->tensorboard<2.15,>=2.14->tensorflow-intel==2.14.0->tensorflow) (3.4)\n",
      "Requirement already satisfied: urllib3<3,>=1.21.1 in c:\\users\\himanshu\\anaconda3\\lib\\site-packages (from requests<3,>=2.21.0->tensorboard<2.15,>=2.14->tensorflow-intel==2.14.0->tensorflow) (1.26.16)\n",
      "Requirement already satisfied: certifi>=2017.4.17 in c:\\users\\himanshu\\anaconda3\\lib\\site-packages (from requests<3,>=2.21.0->tensorboard<2.15,>=2.14->tensorflow-intel==2.14.0->tensorflow) (2023.7.22)\n",
      "Requirement already satisfied: pyasn1<0.5.0,>=0.4.6 in c:\\users\\himanshu\\anaconda3\\lib\\site-packages (from pyasn1-modules>=0.2.1->google-auth<3,>=1.6.3->tensorboard<2.15,>=2.14->tensorflow-intel==2.14.0->tensorflow) (0.4.8)\n",
      "Requirement already satisfied: oauthlib>=3.0.0 in c:\\users\\himanshu\\anaconda3\\lib\\site-packages (from requests-oauthlib>=0.7.0->google-auth-oauthlib<1.1,>=0.5->tensorboard<2.15,>=2.14->tensorflow-intel==2.14.0->tensorflow) (3.2.2)\n",
      "Building wheels for collected packages: pyngrok\n",
      "  Building wheel for pyngrok (setup.py): started\n",
      "  Building wheel for pyngrok (setup.py): finished with status 'done'\n",
      "  Created wheel for pyngrok: filename=pyngrok-7.0.1-py3-none-any.whl size=21156 sha256=ca10a3793fd5bd2278f659cb5a39fd1dafe8ec97e9c84a1f8a5b7e9b6f0acc0b\n",
      "  Stored in directory: c:\\users\\himanshu\\appdata\\local\\pip\\cache\\wheels\\d6\\dc\\9e\\e9bf98d10b60771a395e8a3e6c697ccad5eda5f932687264ac\n",
      "Successfully built pyngrok\n",
      "Installing collected packages: pyngrok\n",
      "Successfully installed pyngrok-7.0.1\n"
     ]
    }
   ],
   "source": [
    "!pip install flask pyngrok opencv-python mediapipe tensorflow\n"
   ]
  },
  {
   "cell_type": "code",
   "execution_count": 8,
   "id": "bd7aaa3c",
   "metadata": {},
   "outputs": [
    {
     "name": "stdout",
     "output_type": "stream",
     "text": [
      "Requirement already satisfied: pyngrok in c:\\users\\himanshu\\anaconda3\\lib\\site-packages (7.0.1)\n",
      "Requirement already satisfied: PyYAML in c:\\users\\himanshu\\anaconda3\\lib\\site-packages (from pyngrok) (6.0)\n"
     ]
    }
   ],
   "source": [
    "!pip install pyngrok --upgrade\n"
   ]
  },
  {
   "cell_type": "code",
   "execution_count": 9,
   "id": "f0eeb2c0",
   "metadata": {},
   "outputs": [],
   "source": [
    "from flask import Flask, render_template, Response\n",
    "import cv2\n",
    "import numpy as np\n",
    "import mediapipe as mp\n",
    "from tensorflow.keras.models import Sequential\n",
    "from tensorflow.keras.layers import LSTM, Dense\n",
    "from tensorflow.keras.utils import to_categorical\n",
    "from IPython.display import display, HTML\n",
    "import time\n",
    "import threading\n",
    "from pyngrok import ngrok"
   ]
  },
  {
   "cell_type": "code",
   "execution_count": 17,
   "id": "5aa792c2",
   "metadata": {},
   "outputs": [],
   "source": [
    "import cv2\n",
    "import mediapipe as mp\n",
    "\n",
    "mp_holistic = mp.solutions.holistic\n",
    "mp_drawing = mp.solutions.drawing_utils\n",
    "\n",
    "def mediapipe_detection(image, model):\n",
    "    image_rgb = cv2.cvtColor(image, cv2.COLOR_BGR2RGB)\n",
    "    results = model.process(image_rgb)\n",
    "    return image, results\n"
   ]
  },
  {
   "cell_type": "code",
   "execution_count": 18,
   "id": "53b209bc",
   "metadata": {},
   "outputs": [],
   "source": [
    "# Function to generate video frames\n",
    "def generate_frames():\n",
    "    cap = cv2.VideoCapture(0)\n",
    "    with mp_holistic.Holistic(min_detection_confidence=0.5, min_tracking_confidence=0.5) as holistic:\n",
    "        while cap.isOpened():\n",
    "            ret, frame = cap.read()\n",
    "            image, results = mediapipe_detection(frame, holistic)\n",
    "\n",
    "            keypoints = extract_keypoints(results)\n",
    "            sequence.append(keypoints)\n",
    "            sequence = sequence[-30:]\n",
    "\n",
    "            if len(sequence) == 30:\n",
    "                res = model.predict(np.expand_dims(sequence, axis=0))[0]\n",
    "                print(actions[np.argmax(res)])\n",
    "\n",
    "                if res[np.argmax(res)] > threshold:\n",
    "                    if len(sentence) > 0:\n",
    "                        if actions[np.argmax(res)] != sentence[-1]:\n",
    "                            sentence.append(actions[np.argmax(res)])\n",
    "                    else:\n",
    "                        sentence.append(actions[np.argmax(res)])\n",
    "\n",
    "                if len(sentence) > 5:\n",
    "                    sentence = sentence[-5:]\n",
    "\n",
    "                image = prob_viz(res, actions, image, colors)\n",
    "\n",
    "            cv2.rectangle(image, (0, 0), (640, 40), (245, 117, 16), -1)\n",
    "            cv2.putText(image, ' '.join(sentence), (3, 30),\n",
    "                        cv2.FONT_HERSHEY_SIMPLEX, 1, (255, 255, 255), 2, cv2.LINE_AA)\n",
    "\n",
    "            ret, buffer = cv2.imencode('.jpg', image)\n",
    "            frame = buffer.tobytes()\n",
    "            yield (b'--frame\\r\\n'\n",
    "                    b'Content-Type: image/jpeg\\r\\n\\r\\n' + frame + b'\\r\\n')  # concat frame one by one and display result\n",
    "\n",
    "            if cv2.waitKey(10) & 0xFF == ord('q'):\n",
    "                break\n",
    "\n",
    "    cap.release()\n",
    "    cv2.destroyAllWindows()"
   ]
  },
  {
   "cell_type": "code",
   "execution_count": 19,
   "id": "0793087a",
   "metadata": {},
   "outputs": [],
   "source": [
    "def start_flask_app():\n",
    "    app.run()\n"
   ]
  },
  {
   "cell_type": "code",
   "execution_count": 20,
   "id": "b38df8c9",
   "metadata": {},
   "outputs": [
    {
     "name": "stdout",
     "output_type": "stream",
     "text": [
      " * Serving Flask app '__main__'\n",
      " * Debug mode: off\n"
     ]
    },
    {
     "name": "stderr",
     "output_type": "stream",
     "text": [
      "WARNING: This is a development server. Do not use it in a production deployment. Use a production WSGI server instead.\n",
      " * Running on http://127.0.0.1:5000\n",
      "Press CTRL+C to quit\n"
     ]
    }
   ],
   "source": [
    "# Start Flask app in a separate thread\n",
    "threading.Thread(target=start_flask_app).start()"
   ]
  },
  {
   "cell_type": "code",
   "execution_count": 21,
   "id": "ca036d11",
   "metadata": {},
   "outputs": [
    {
     "data": {
      "text/html": [
       "Open the app at <a href='NgrokTunnel: \"https://50b9-2401-4900-81f1-55ed-d0d6-8b77-721-1e45.ngrok.io\" -> \"http://localhost:5000\"' target='_blank'>NgrokTunnel: \"https://50b9-2401-4900-81f1-55ed-d0d6-8b77-721-1e45.ngrok.io\" -> \"http://localhost:5000\"</a>"
      ],
      "text/plain": [
       "<IPython.core.display.HTML object>"
      ]
     },
     "metadata": {},
     "output_type": "display_data"
    },
    {
     "ename": "NameError",
     "evalue": "name 'extract_keypoints' is not defined",
     "output_type": "error",
     "traceback": [
      "\u001b[1;31m---------------------------------------------------------------------------\u001b[0m",
      "\u001b[1;31mNameError\u001b[0m                                 Traceback (most recent call last)",
      "Cell \u001b[1;32mIn[21], line 8\u001b[0m\n\u001b[0;32m      3\u001b[0m display(HTML(\u001b[38;5;124mf\u001b[39m\u001b[38;5;124m\"\u001b[39m\u001b[38;5;124mOpen the app at <a href=\u001b[39m\u001b[38;5;124m'\u001b[39m\u001b[38;5;132;01m{\u001b[39;00mpublic_url\u001b[38;5;132;01m}\u001b[39;00m\u001b[38;5;124m'\u001b[39m\u001b[38;5;124m target=\u001b[39m\u001b[38;5;124m'\u001b[39m\u001b[38;5;124m_blank\u001b[39m\u001b[38;5;124m'\u001b[39m\u001b[38;5;124m>\u001b[39m\u001b[38;5;132;01m{\u001b[39;00mpublic_url\u001b[38;5;132;01m}\u001b[39;00m\u001b[38;5;124m</a>\u001b[39m\u001b[38;5;124m\"\u001b[39m))\n\u001b[0;32m      5\u001b[0m \u001b[38;5;66;03m# Display the video feed in the notebook\u001b[39;00m\n\u001b[0;32m      6\u001b[0m display(HTML(\u001b[38;5;124m\"\"\"\u001b[39m\n\u001b[0;32m      7\u001b[0m \u001b[38;5;124m<img src=\u001b[39m\u001b[38;5;124m\"\u001b[39m\u001b[38;5;124mdata:image/jpeg;base64,\u001b[39m\u001b[38;5;132;01m{}\u001b[39;00m\u001b[38;5;124m\"\u001b[39m\u001b[38;5;124m />\u001b[39m\n\u001b[1;32m----> 8\u001b[0m \u001b[38;5;124m\"\"\"\u001b[39m\u001b[38;5;241m.\u001b[39mformat(\u001b[38;5;28mnext\u001b[39m(generate_frames()))))\n",
      "Cell \u001b[1;32mIn[18], line 9\u001b[0m, in \u001b[0;36mgenerate_frames\u001b[1;34m()\u001b[0m\n\u001b[0;32m      6\u001b[0m ret, frame \u001b[38;5;241m=\u001b[39m cap\u001b[38;5;241m.\u001b[39mread()\n\u001b[0;32m      7\u001b[0m image, results \u001b[38;5;241m=\u001b[39m mediapipe_detection(frame, holistic)\n\u001b[1;32m----> 9\u001b[0m keypoints \u001b[38;5;241m=\u001b[39m extract_keypoints(results)\n\u001b[0;32m     10\u001b[0m sequence\u001b[38;5;241m.\u001b[39mappend(keypoints)\n\u001b[0;32m     11\u001b[0m sequence \u001b[38;5;241m=\u001b[39m sequence[\u001b[38;5;241m-\u001b[39m\u001b[38;5;241m30\u001b[39m:]\n",
      "\u001b[1;31mNameError\u001b[0m: name 'extract_keypoints' is not defined"
     ]
    }
   ],
   "source": [
    "# Create a public URL using ngrok\n",
    "public_url = ngrok.connect(addr=\"localhost:5000\", proto=\"http\", bind_tls=True)\n",
    "display(HTML(f\"Open the app at <a href='{public_url}' target='_blank'>{public_url}</a>\"))\n",
    "\n",
    "# Display the video feed in the notebook\n",
    "display(HTML(\"\"\"\n",
    "<img src=\"data:image/jpeg;base64,{}\" />\n",
    "\"\"\".format(next(generate_frames()))))\n"
   ]
  },
  {
   "cell_type": "code",
   "execution_count": null,
   "id": "9b2e1569",
   "metadata": {},
   "outputs": [],
   "source": []
  },
  {
   "cell_type": "code",
   "execution_count": null,
   "id": "58a98903",
   "metadata": {},
   "outputs": [],
   "source": []
  }
 ],
 "metadata": {
  "kernelspec": {
   "display_name": "Python 3 (ipykernel)",
   "language": "python",
   "name": "python3"
  },
  "language_info": {
   "codemirror_mode": {
    "name": "ipython",
    "version": 3
   },
   "file_extension": ".py",
   "mimetype": "text/x-python",
   "name": "python",
   "nbconvert_exporter": "python",
   "pygments_lexer": "ipython3",
   "version": "3.11.4"
  }
 },
 "nbformat": 4,
 "nbformat_minor": 5
}
