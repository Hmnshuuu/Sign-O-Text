{
 "cells": [
  {
   "cell_type": "code",
   "execution_count": 2,
   "id": "165958dc",
   "metadata": {},
   "outputs": [
    {
     "name": "stderr",
     "output_type": "stream",
     "text": [
      "t=2023-11-24T01:34:55+0530 lvl=warn msg=\"ngrok config file found at legacy location, move to XDG location\" xdg_path=C:\\\\Users\\\\himanshu\\\\AppData\\\\Local/ngrok/ngrok.yml legacy_path=C:\\\\Users\\\\himanshu\\\\.ngrok2\\\\ngrok.yml\n"
     ]
    },
    {
     "data": {
      "text/html": [
       "Open the app at <a href='NgrokTunnel: \"https://10a2-2401-4900-81f1-55ed-d0d6-8b77-721-1e45.ngrok.io\" -> \"http://localhost:5000\"' target='_blank'>NgrokTunnel: \"https://10a2-2401-4900-81f1-55ed-d0d6-8b77-721-1e45.ngrok.io\" -> \"http://localhost:5000\"</a>"
      ],
      "text/plain": [
       "<IPython.core.display.HTML object>"
      ]
     },
     "metadata": {},
     "output_type": "display_data"
    },
    {
     "name": "stdout",
     "output_type": "stream",
     "text": [
      " * Serving Flask app '__main__'\n",
      " * Debug mode: off\n"
     ]
    },
    {
     "name": "stderr",
     "output_type": "stream",
     "text": [
      "WARNING: This is a development server. Do not use it in a production deployment. Use a production WSGI server instead.\n",
      " * Running on http://127.0.0.1:5000\n",
      "Press CTRL+C to quit\n"
     ]
    },
    {
     "ename": "NameError",
     "evalue": "name 'mediapipe_detection' is not defined",
     "output_type": "error",
     "traceback": [
      "\u001b[1;31m---------------------------------------------------------------------------\u001b[0m",
      "\u001b[1;31mNameError\u001b[0m                                 Traceback (most recent call last)",
      "Cell \u001b[1;32mIn[2], line 60\u001b[0m\n\u001b[0;32m     55\u001b[0m threading\u001b[38;5;241m.\u001b[39mThread(target\u001b[38;5;241m=\u001b[39mstart_flask_app)\u001b[38;5;241m.\u001b[39mstart()\n\u001b[0;32m     57\u001b[0m \u001b[38;5;66;03m# Display the video feed in the notebook\u001b[39;00m\n\u001b[0;32m     58\u001b[0m display(HTML(\u001b[38;5;124m\"\"\"\u001b[39m\n\u001b[0;32m     59\u001b[0m \u001b[38;5;124m    <img src=\u001b[39m\u001b[38;5;124m\"\u001b[39m\u001b[38;5;124mdata:image/jpeg;base64,\u001b[39m\u001b[38;5;132;01m{}\u001b[39;00m\u001b[38;5;124m\"\u001b[39m\u001b[38;5;124m />\u001b[39m\n\u001b[1;32m---> 60\u001b[0m \u001b[38;5;124m\"\"\"\u001b[39m\u001b[38;5;241m.\u001b[39mformat(\u001b[38;5;28mnext\u001b[39m(generate_frames()))))\n\u001b[0;32m     62\u001b[0m \u001b[38;5;66;03m# Define the extract_keypoints function\u001b[39;00m\n\u001b[0;32m     63\u001b[0m \u001b[38;5;28;01mdef\u001b[39;00m \u001b[38;5;21mextract_keypoints\u001b[39m(results):\n",
      "Cell \u001b[1;32mIn[2], line 28\u001b[0m, in \u001b[0;36mgenerate_frames\u001b[1;34m()\u001b[0m\n\u001b[0;32m     26\u001b[0m \u001b[38;5;28;01mwhile\u001b[39;00m cap\u001b[38;5;241m.\u001b[39misOpened():\n\u001b[0;32m     27\u001b[0m     ret, frame \u001b[38;5;241m=\u001b[39m cap\u001b[38;5;241m.\u001b[39mread()\n\u001b[1;32m---> 28\u001b[0m     image, results \u001b[38;5;241m=\u001b[39m mediapipe_detection(frame, holistic)\n\u001b[0;32m     29\u001b[0m     draw_styled_landmarks(image, results)\n\u001b[0;32m     31\u001b[0m     keypoints \u001b[38;5;241m=\u001b[39m extract_keypoints(results)\n",
      "\u001b[1;31mNameError\u001b[0m: name 'mediapipe_detection' is not defined"
     ]
    }
   ],
   "source": [
    "import cv2\n",
    "import numpy as np\n",
    "import mediapipe as mp\n",
    "from flask import Flask\n",
    "from tensorflow.keras.models import Sequential\n",
    "from tensorflow.keras.layers import LSTM, Dense\n",
    "from tensorflow.keras.utils import to_categorical\n",
    "from IPython.display import display, HTML\n",
    "from pyngrok import ngrok\n",
    "import threading\n",
    "\n",
    "# Initialize MediaPipe\n",
    "mp_holistic = mp.solutions.holistic\n",
    "mp_drawing = mp.solutions.drawing_utils\n",
    "\n",
    "# Flask app\n",
    "app = Flask(__name__)\n",
    "\n",
    "# Define action classes\n",
    "actions = np.array(['hello', 'thanks', 'Father', 'Mother', 'Yes', 'No', 'Help', 'A', 'B', 'C'])\n",
    "\n",
    "# Video streaming logic\n",
    "def generate_frames():\n",
    "    cap = cv2.VideoCapture(0)\n",
    "    with mp_holistic.Holistic(min_detection_confidence=0.5, min_tracking_confidence=0.5) as holistic:\n",
    "        while cap.isOpened():\n",
    "            ret, frame = cap.read()\n",
    "            image, results = mediapipe_detection(frame, holistic)\n",
    "            draw_styled_landmarks(image, results)\n",
    "\n",
    "            keypoints = extract_keypoints(results)\n",
    "            sequence.append(keypoints)\n",
    "            sequence = sequence[-30:]\n",
    "\n",
    "            if len(sequence) == 30:\n",
    "                res = model.predict(np.expand_dims(sequence, axis=0))[0]\n",
    "                print(actions[np.argmax(res)])\n",
    "\n",
    "            # ... (Rest of your logic)\n",
    "\n",
    "            ret, buffer = cv2.imencode('.jpg', image)\n",
    "            frame = buffer.tobytes()\n",
    "            yield (b'--frame\\r\\n'\n",
    "                   b'Content-Type: image/jpeg\\r\\n\\r\\n' + frame + b'\\r\\n')\n",
    "\n",
    "# Start Flask app in a separate thread\n",
    "def start_flask_app():\n",
    "    app.run()\n",
    "\n",
    "# Start ngrok and display the public URL\n",
    "public_url = ngrok.connect(addr=\"localhost:5000\", proto=\"http\", bind_tls=True)\n",
    "display(HTML(f\"Open the app at <a href='{public_url}' target='_blank'>{public_url}</a>\"))\n",
    "\n",
    "# Start Flask app in a separate thread\n",
    "threading.Thread(target=start_flask_app).start()\n",
    "\n",
    "# Display the video feed in the notebook\n",
    "display(HTML(\"\"\"\n",
    "    <img src=\"data:image/jpeg;base64,{}\" />\n",
    "\"\"\".format(next(generate_frames()))))\n",
    "\n",
    "# Define the extract_keypoints function\n",
    "def extract_keypoints(results):\n",
    "    keypoints = []\n",
    "\n",
    "    # Extract face landmarks\n",
    "    if results.face_landmarks:\n",
    "        for landmark in results.face_landmarks.landmark:\n",
    "            keypoints.append(landmark.x)\n",
    "            keypoints.append(landmark.y)\n",
    "            keypoints.append(landmark.z if landmark.HasField('z') else 0)\n",
    "    \n",
    "    # Extract pose landmarks\n",
    "    if results.pose_landmarks:\n",
    "        for landmark in results.pose_landmarks.landmark:\n",
    "            keypoints.append(landmark.x)\n",
    "            keypoints.append(landmark.y)\n",
    "            keypoints.append(landmark.z if landmark.HasField('z') else 0)\n",
    "    \n",
    "    # Extract left hand landmarks\n",
    "    if results.left_hand_landmarks:\n",
    "        for landmark in results.left_hand_landmarks.landmark:\n",
    "            keypoints.append(landmark.x)\n",
    "            keypoints.append(landmark.y)\n",
    "            keypoints.append(landmark.z if landmark.HasField('z') else 0)\n",
    "    \n",
    "    # Extract right hand landmarks\n",
    "    if results.right_hand_landmarks:\n",
    "        for landmark in results.right_hand_landmarks.landmark:\n",
    "            keypoints.append(landmark.x)\n",
    "            keypoints.append(landmark.y)\n",
    "            keypoints.append(landmark.z if landmark.HasField('z') else 0)\n",
    "    \n",
    "    return keypoints\n"
   ]
  },
  {
   "cell_type": "code",
   "execution_count": null,
   "id": "590794fb",
   "metadata": {},
   "outputs": [],
   "source": []
  }
 ],
 "metadata": {
  "kernelspec": {
   "display_name": "Python 3 (ipykernel)",
   "language": "python",
   "name": "python3"
  },
  "language_info": {
   "codemirror_mode": {
    "name": "ipython",
    "version": 3
   },
   "file_extension": ".py",
   "mimetype": "text/x-python",
   "name": "python",
   "nbconvert_exporter": "python",
   "pygments_lexer": "ipython3",
   "version": "3.11.4"
  }
 },
 "nbformat": 4,
 "nbformat_minor": 5
}
