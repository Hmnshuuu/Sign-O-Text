{
 "cells": [
  {
   "cell_type": "markdown",
   "metadata": {},
   "source": [
    "# 1. Import and Install Dependencies"
   ]
  },
  {
   "cell_type": "code",
   "execution_count": null,
   "metadata": {},
   "outputs": [],
   "source": []
  },
  {
   "cell_type": "code",
   "execution_count": 2,
   "metadata": {},
   "outputs": [],
   "source": [
    "import cv2 \n",
    "import numpy as np\n",
    "import os\n",
    "from matplotlib import pyplot as plt\n",
    "import time\n",
    "import mediapipe as mp"
   ]
  },
  {
   "cell_type": "code",
   "execution_count": 3,
   "metadata": {},
   "outputs": [
    {
     "name": "stdout",
     "output_type": "stream",
     "text": [
      "Python 3.9.13\n"
     ]
    }
   ],
   "source": [
    "!python --version"
   ]
  },
  {
   "cell_type": "code",
   "execution_count": 4,
   "metadata": {},
   "outputs": [
    {
     "data": {
      "text/plain": [
       "'C:\\\\Users\\\\himan\\\\Desktop\\\\Projects\\\\ActionDetectionforSignLanguage-main\\\\ActionDetectionforSignLanguage-main\\\\ActionDetectionforSignLanguage-main'"
      ]
     },
     "execution_count": 4,
     "metadata": {},
     "output_type": "execute_result"
    }
   ],
   "source": [
    "%pwd"
   ]
  },
  {
   "cell_type": "markdown",
   "metadata": {},
   "source": [
    "# 2. Keypoints using MP Holistic"
   ]
  },
  {
   "cell_type": "code",
   "execution_count": 5,
   "metadata": {},
   "outputs": [],
   "source": [
    "mp_holistic = mp.solutions.holistic # Holistic model using mediapipe\n",
    "mp_drawing = mp.solutions.drawing_utils # Drawing utilities saare points "
   ]
  },
  {
   "cell_type": "code",
   "execution_count": 6,
   "metadata": {},
   "outputs": [],
   "source": [
    "def mediapipe_detection(image, model):\n",
    "    image = cv2.cvtColor(image, cv2.COLOR_BGR2RGB) # COLOR CONVERSION BGR 2 RGB\n",
    "    image.flags.writeable = False                  # Image is no longer writeable\n",
    "    results = model.process(image)                 # Make prediction\n",
    "    image.flags.writeable = True                   # Image is now writeable \n",
    "    image = cv2.cvtColor(image, cv2.COLOR_RGB2BGR) # COLOR COVERSION RGB 2 BGR\n",
    "    return image, results"
   ]
  },
  {
   "cell_type": "code",
   "execution_count": 7,
   "metadata": {},
   "outputs": [],
   "source": [
    "def draw_landmarks(image, results):\n",
    "    mp_drawing.draw_landmarks(image, results.face_landmarks, mp_holistic.FACEMESH_TESSELATION) # Draw face connections\n",
    "    mp_drawing.draw_landmarks(image, results.pose_landmarks, mp_holistic.POSE_CONNECTIONS) # Draw pose connections\n",
    "    mp_drawing.draw_landmarks(image, results.left_hand_landmarks, mp_holistic.HAND_CONNECTIONS) # Draw left hand connections\n",
    "    mp_drawing.draw_landmarks(image, results.right_hand_landmarks, mp_holistic.HAND_CONNECTIONS) # Draw right hand connections"
   ]
  },
  {
   "cell_type": "code",
   "execution_count": 8,
   "metadata": {},
   "outputs": [],
   "source": [
    "import mediapipe as mp\n",
    "\n",
    "def draw_styled_landmarks(image, results):\n",
    "    drawing_spec_face = mp.solutions.drawing_utils.DrawingSpec(color=(80, 110, 10), thickness=1, circle_radius=1)  #points ko donate krega or colour ke hisaab se show kr dega apne ko\n",
    "    drawing_spec_pose = mp.solutions.drawing_utils.DrawingSpec(color=(80, 22, 10), thickness=1, circle_radius=1)\n",
    "    drawing_spec_hands = mp.solutions.drawing_utils.DrawingSpec(color=(121, 22, 76), thickness=1, circle_radius=1)\n",
    "\n",
    "    # Draw face connections\n",
    "    mp.solutions.drawing_utils.draw_landmarks(image, results.face_landmarks, mp.solutions.holistic.FACEMESH_TESSELATION, drawing_spec_face)\n",
    "\n",
    "    # Draw pose connections\n",
    "    mp.solutions.drawing_utils.draw_landmarks(image, results.pose_landmarks, mp.solutions.holistic.POSE_CONNECTIONS, drawing_spec_pose)\n",
    "\n",
    "    # Draw left hand connections\n",
    "    mp.solutions.drawing_utils.draw_landmarks(image, results.left_hand_landmarks, mp.solutions.holistic.HAND_CONNECTIONS, drawing_spec_hands)\n",
    "\n",
    "    # Draw right hand connections\n",
    "    mp.solutions.drawing_utils.draw_landmarks(image, results.right_hand_landmarks, mp.solutions.holistic.HAND_CONNECTIONS, drawing_spec_hands)\n"
   ]
  },
  {
   "cell_type": "code",
   "execution_count": 14,
   "metadata": {},
   "outputs": [
    {
     "name": "stdout",
     "output_type": "stream",
     "text": [
      "<class 'mediapipe.python.solution_base.SolutionOutputs'>\n",
      "<class 'mediapipe.python.solution_base.SolutionOutputs'>\n",
      "<class 'mediapipe.python.solution_base.SolutionOutputs'>\n",
      "<class 'mediapipe.python.solution_base.SolutionOutputs'>\n",
      "<class 'mediapipe.python.solution_base.SolutionOutputs'>\n",
      "<class 'mediapipe.python.solution_base.SolutionOutputs'>\n",
      "<class 'mediapipe.python.solution_base.SolutionOutputs'>\n",
      "<class 'mediapipe.python.solution_base.SolutionOutputs'>\n",
      "<class 'mediapipe.python.solution_base.SolutionOutputs'>\n",
      "<class 'mediapipe.python.solution_base.SolutionOutputs'>\n",
      "<class 'mediapipe.python.solution_base.SolutionOutputs'>\n",
      "<class 'mediapipe.python.solution_base.SolutionOutputs'>\n",
      "<class 'mediapipe.python.solution_base.SolutionOutputs'>\n",
      "<class 'mediapipe.python.solution_base.SolutionOutputs'>\n",
      "<class 'mediapipe.python.solution_base.SolutionOutputs'>\n",
      "<class 'mediapipe.python.solution_base.SolutionOutputs'>\n",
      "<class 'mediapipe.python.solution_base.SolutionOutputs'>\n",
      "<class 'mediapipe.python.solution_base.SolutionOutputs'>\n",
      "<class 'mediapipe.python.solution_base.SolutionOutputs'>\n",
      "<class 'mediapipe.python.solution_base.SolutionOutputs'>\n",
      "<class 'mediapipe.python.solution_base.SolutionOutputs'>\n",
      "<class 'mediapipe.python.solution_base.SolutionOutputs'>\n",
      "<class 'mediapipe.python.solution_base.SolutionOutputs'>\n",
      "<class 'mediapipe.python.solution_base.SolutionOutputs'>\n",
      "<class 'mediapipe.python.solution_base.SolutionOutputs'>\n",
      "<class 'mediapipe.python.solution_base.SolutionOutputs'>\n",
      "<class 'mediapipe.python.solution_base.SolutionOutputs'>\n",
      "<class 'mediapipe.python.solution_base.SolutionOutputs'>\n",
      "<class 'mediapipe.python.solution_base.SolutionOutputs'>\n",
      "<class 'mediapipe.python.solution_base.SolutionOutputs'>\n",
      "<class 'mediapipe.python.solution_base.SolutionOutputs'>\n",
      "<class 'mediapipe.python.solution_base.SolutionOutputs'>\n",
      "<class 'mediapipe.python.solution_base.SolutionOutputs'>\n",
      "<class 'mediapipe.python.solution_base.SolutionOutputs'>\n",
      "<class 'mediapipe.python.solution_base.SolutionOutputs'>\n",
      "<class 'mediapipe.python.solution_base.SolutionOutputs'>\n",
      "<class 'mediapipe.python.solution_base.SolutionOutputs'>\n",
      "<class 'mediapipe.python.solution_base.SolutionOutputs'>\n",
      "<class 'mediapipe.python.solution_base.SolutionOutputs'>\n",
      "<class 'mediapipe.python.solution_base.SolutionOutputs'>\n",
      "<class 'mediapipe.python.solution_base.SolutionOutputs'>\n",
      "<class 'mediapipe.python.solution_base.SolutionOutputs'>\n",
      "<class 'mediapipe.python.solution_base.SolutionOutputs'>\n",
      "<class 'mediapipe.python.solution_base.SolutionOutputs'>\n",
      "<class 'mediapipe.python.solution_base.SolutionOutputs'>\n",
      "<class 'mediapipe.python.solution_base.SolutionOutputs'>\n",
      "<class 'mediapipe.python.solution_base.SolutionOutputs'>\n",
      "<class 'mediapipe.python.solution_base.SolutionOutputs'>\n",
      "<class 'mediapipe.python.solution_base.SolutionOutputs'>\n",
      "<class 'mediapipe.python.solution_base.SolutionOutputs'>\n",
      "<class 'mediapipe.python.solution_base.SolutionOutputs'>\n",
      "<class 'mediapipe.python.solution_base.SolutionOutputs'>\n",
      "<class 'mediapipe.python.solution_base.SolutionOutputs'>\n",
      "<class 'mediapipe.python.solution_base.SolutionOutputs'>\n",
      "<class 'mediapipe.python.solution_base.SolutionOutputs'>\n",
      "<class 'mediapipe.python.solution_base.SolutionOutputs'>\n",
      "<class 'mediapipe.python.solution_base.SolutionOutputs'>\n",
      "<class 'mediapipe.python.solution_base.SolutionOutputs'>\n",
      "<class 'mediapipe.python.solution_base.SolutionOutputs'>\n",
      "<class 'mediapipe.python.solution_base.SolutionOutputs'>\n",
      "<class 'mediapipe.python.solution_base.SolutionOutputs'>\n",
      "<class 'mediapipe.python.solution_base.SolutionOutputs'>\n",
      "<class 'mediapipe.python.solution_base.SolutionOutputs'>\n",
      "<class 'mediapipe.python.solution_base.SolutionOutputs'>\n",
      "<class 'mediapipe.python.solution_base.SolutionOutputs'>\n",
      "<class 'mediapipe.python.solution_base.SolutionOutputs'>\n",
      "<class 'mediapipe.python.solution_base.SolutionOutputs'>\n",
      "<class 'mediapipe.python.solution_base.SolutionOutputs'>\n",
      "<class 'mediapipe.python.solution_base.SolutionOutputs'>\n",
      "<class 'mediapipe.python.solution_base.SolutionOutputs'>\n",
      "<class 'mediapipe.python.solution_base.SolutionOutputs'>\n",
      "<class 'mediapipe.python.solution_base.SolutionOutputs'>\n",
      "<class 'mediapipe.python.solution_base.SolutionOutputs'>\n",
      "<class 'mediapipe.python.solution_base.SolutionOutputs'>\n",
      "<class 'mediapipe.python.solution_base.SolutionOutputs'>\n",
      "<class 'mediapipe.python.solution_base.SolutionOutputs'>\n",
      "<class 'mediapipe.python.solution_base.SolutionOutputs'>\n",
      "<class 'mediapipe.python.solution_base.SolutionOutputs'>\n",
      "<class 'mediapipe.python.solution_base.SolutionOutputs'>\n",
      "<class 'mediapipe.python.solution_base.SolutionOutputs'>\n",
      "<class 'mediapipe.python.solution_base.SolutionOutputs'>\n",
      "<class 'mediapipe.python.solution_base.SolutionOutputs'>\n",
      "<class 'mediapipe.python.solution_base.SolutionOutputs'>\n",
      "<class 'mediapipe.python.solution_base.SolutionOutputs'>\n",
      "<class 'mediapipe.python.solution_base.SolutionOutputs'>\n",
      "<class 'mediapipe.python.solution_base.SolutionOutputs'>\n",
      "<class 'mediapipe.python.solution_base.SolutionOutputs'>\n",
      "<class 'mediapipe.python.solution_base.SolutionOutputs'>\n",
      "<class 'mediapipe.python.solution_base.SolutionOutputs'>\n",
      "<class 'mediapipe.python.solution_base.SolutionOutputs'>\n",
      "<class 'mediapipe.python.solution_base.SolutionOutputs'>\n",
      "<class 'mediapipe.python.solution_base.SolutionOutputs'>\n",
      "<class 'mediapipe.python.solution_base.SolutionOutputs'>\n",
      "<class 'mediapipe.python.solution_base.SolutionOutputs'>\n",
      "<class 'mediapipe.python.solution_base.SolutionOutputs'>\n",
      "<class 'mediapipe.python.solution_base.SolutionOutputs'>\n",
      "<class 'mediapipe.python.solution_base.SolutionOutputs'>\n",
      "<class 'mediapipe.python.solution_base.SolutionOutputs'>\n",
      "<class 'mediapipe.python.solution_base.SolutionOutputs'>\n",
      "<class 'mediapipe.python.solution_base.SolutionOutputs'>\n",
      "<class 'mediapipe.python.solution_base.SolutionOutputs'>\n"
     ]
    }
   ],
   "source": [
    "cap = cv2.VideoCapture(0)  # for camera switch on\n",
    "# Set mediapipe model \n",
    "with mp_holistic.Holistic(min_detection_confidence=0.5, min_tracking_confidence=0.5) as holistic:\n",
    "    while cap.isOpened():\n",
    "\n",
    "        # Read feed from camera\n",
    "        ret, frame = cap.read()\n",
    "\n",
    "        # Make detections\n",
    "        image, results = mediapipe_detection(frame, holistic)\n",
    "        print(results)\n",
    "        \n",
    "        # Draw landmarks\n",
    "        draw_styled_landmarks(image, results)\n",
    "\n",
    "        # Show to screen\n",
    "        cv2.imshow('OpenCV Feed', image)\n",
    "\n",
    "        # Break gracefully\n",
    "        if cv2.waitKey(10) & 0xFF == ord('q'):\n",
    "            break\n",
    "    cap.release()\n",
    "    cv2.destroyAllWindows()"
   ]
  },
  {
   "cell_type": "code",
   "execution_count": 10,
   "metadata": {},
   "outputs": [
    {
     "data": {
      "text/plain": [
       "468"
      ]
     },
     "execution_count": 10,
     "metadata": {},
     "output_type": "execute_result"
    }
   ],
   "source": [
    "len(results.face_landmarks.landmark)"
   ]
  },
  {
   "cell_type": "code",
   "execution_count": 11,
   "metadata": {},
   "outputs": [
    {
     "data": {
      "text/plain": [
       "mediapipe.python.solution_base.SolutionOutputs"
      ]
     },
     "execution_count": 11,
     "metadata": {},
     "output_type": "execute_result"
    }
   ],
   "source": [
    "results"
   ]
  },
  {
   "cell_type": "code",
   "execution_count": 12,
   "metadata": {},
   "outputs": [],
   "source": [
    "draw_landmarks(frame, results)"
   ]
  },
  {
   "cell_type": "code",
   "execution_count": 13,
   "metadata": {},
   "outputs": [
    {
     "data": {
      "text/plain": [
       "<matplotlib.image.AxesImage at 0x2172802c4c0>"
      ]
     },
     "execution_count": 13,
     "metadata": {},
     "output_type": "execute_result"
    },
    {
     "data": {
      "image/png": "[encoded data removed]",
      "text/plain": [
       "<Figure size 640x480 with 1 Axes>"
      ]
     },
     "metadata": {},
     "output_type": "display_data"
    }
   ],
   "source": [
    "plt.imshow(cv2.cvtColor(frame, cv2.COLOR_BGR2RGB))"
   ]
  },
  {
   "cell_type": "markdown",
   "metadata": {},
   "source": [
    "# 3. Extract Keypoint Values"
   ]
  },
  {
   "cell_type": "code",
   "execution_count": 13,
   "metadata": {},
   "outputs": [
    {
     "data": {
      "text/plain": [
       "landmark {\n",
       "  x: 0.6019179224967957\n",
       "  y: 0.9044931530952454\n",
       "  z: -1.3692860534320062e-07\n",
       "}\n",
       "landmark {\n",
       "  x: 0.5443590879440308\n",
       "  y: 0.9627285003662109\n",
       "  z: 0.004557233303785324\n",
       "}\n",
       "landmark {\n",
       "  x: 0.49535122513771057\n",
       "  y: 0.9716730117797852\n",
       "  z: 0.0023108297027647495\n",
       "}\n",
       "landmark {\n",
       "  x: 0.461570680141449\n",
       "  y: 0.9701991677284241\n",
       "  z: -0.004065711051225662\n",
       "}\n",
       "landmark {\n",
       "  x: 0.43757230043411255\n",
       "  y: 0.9707313179969788\n",
       "  z: -0.010263529606163502\n",
       "}\n",
       "landmark {\n",
       "  x: 0.45687219500541687\n",
       "  y: 0.8730149269104004\n",
       "  z: 0.0069719343446195126\n",
       "}\n",
       "landmark {\n",
       "  x: 0.4091227352619171\n",
       "  y: 0.9175288081169128\n",
       "  z: -0.007374213542789221\n",
       "}\n",
       "landmark {\n",
       "  x: 0.38210082054138184\n",
       "  y: 0.9483696818351746\n",
       "  z: -0.01904575526714325\n",
       "}\n",
       "landmark {\n",
       "  x: 0.36020898818969727\n",
       "  y: 0.9743294715881348\n",
       "  z: -0.02609112858772278\n",
       "}\n",
       "landmark {\n",
       "  x: 0.45983263850212097\n",
       "  y: 0.8615167737007141\n",
       "  z: -0.004120707046240568\n",
       "}\n",
       "landmark {\n",
       "  x: 0.40143030881881714\n",
       "  y: 0.9135068655014038\n",
       "  z: -0.017116442322731018\n",
       "}\n",
       "landmark {\n",
       "  x: 0.37380433082580566\n",
       "  y: 0.9506051540374756\n",
       "  z: -0.026075541973114014\n",
       "}\n",
       "landmark {\n",
       "  x: 0.3549586534500122\n",
       "  y: 0.9783270359039307\n",
       "  z: -0.031297121196985245\n",
       "}\n",
       "landmark {\n",
       "  x: 0.4695044457912445\n",
       "  y: 0.8647609949111938\n",
       "  z: -0.01629120483994484\n",
       "}\n",
       "landmark {\n",
       "  x: 0.4316796660423279\n",
       "  y: 0.9441117644309998\n",
       "  z: -0.03248843550682068\n",
       "}\n",
       "landmark {\n",
       "  x: 0.44399353861808777\n",
       "  y: 0.9897985458374023\n",
       "  z: -0.036014799028635025\n",
       "}\n",
       "landmark {\n",
       "  x: 0.45931369066238403\n",
       "  y: 1.0158263444900513\n",
       "  z: -0.034610565751791\n",
       "}\n",
       "landmark {\n",
       "  x: 0.4844290316104889\n",
       "  y: 0.8831486701965332\n",
       "  z: -0.028649963438510895\n",
       "}\n",
       "landmark {\n",
       "  x: 0.4663332998752594\n",
       "  y: 0.9537856578826904\n",
       "  z: -0.038855310529470444\n",
       "}\n",
       "landmark {\n",
       "  x: 0.47612544894218445\n",
       "  y: 0.9880347847938538\n",
       "  z: -0.03930269554257393\n",
       "}\n",
       "landmark {\n",
       "  x: 0.4871925413608551\n",
       "  y: 1.007523536682129\n",
       "  z: -0.03709147870540619\n",
       "}"
      ]
     },
     "execution_count": 13,
     "metadata": {},
     "output_type": "execute_result"
    }
   ],
   "source": [
    "results.left_hand_landmarks"
   ]
  },
  {
   "cell_type": "code",
   "execution_count": 12,
   "metadata": {},
   "outputs": [],
   "source": [
    "pose = [] #1 list bnai or uske saari points strore kr rhe h\n",
    "for res in results.pose_landmarks.landmark:\n",
    "    test = np.array([res.x, res.y, res.z, res.visibility])\n",
    "    pose.append(test)"
   ]
  },
  {
   "cell_type": "code",
   "execution_count": 13,
   "metadata": {},
   "outputs": [
    {
     "data": {
      "text/plain": [
       "33"
      ]
     },
     "execution_count": 13,
     "metadata": {},
     "output_type": "execute_result"
    }
   ],
   "source": [
    "len(pose)"
   ]
  },
  {
   "cell_type": "code",
   "execution_count": 14,
   "metadata": {},
   "outputs": [],
   "source": [
    "pose = np.array([[res.x, res.y, res.z, res.visibility] for res in results.pose_landmarks.landmark]).flatten() if results.pose_landmarks else np.zeros(33*4)\n",
    "face = np.array([[res.x, res.y, res.z] for res in results.face_landmarks.landmark]).flatten() if results.face_landmarks else np.zeros(1404)\n",
    "lh = np.array([[res.x, res.y, res.z] for res in results.left_hand_landmarks.landmark]).flatten() if results.left_hand_landmarks else np.zeros(21*3)\n",
    "rh = np.array([[res.x, res.y, res.z] for res in results.right_hand_landmarks.landmark]).flatten() if results.right_hand_landmarks else np.zeros(21*3)"
   ]
  },
  {
   "cell_type": "code",
   "execution_count": 15,
   "metadata": {},
   "outputs": [
    {
     "data": {
      "text/plain": [
       "array([ 0.54287994,  0.59966946, -0.0220109 , ...,  0.60282081,\n",
       "        0.50724703,  0.00538234])"
      ]
     },
     "execution_count": 15,
     "metadata": {},
     "output_type": "execute_result"
    }
   ],
   "source": [
    "face"
   ]
  },
  {
   "cell_type": "code",
   "execution_count": 16,
   "metadata": {},
   "outputs": [
    {
     "ename": "IndentationError",
     "evalue": "unexpected indent (1373052555.py, line 2)",
     "output_type": "error",
     "traceback": [
      "\u001b[1;36m  File \u001b[1;32m\"C:\\Users\\himan\\AppData\\Local\\Temp\\ipykernel_12812\\1373052555.py\"\u001b[1;36m, line \u001b[1;32m2\u001b[0m\n\u001b[1;33m    if results.face_landmarks\u001b[0m\n\u001b[1;37m    ^\u001b[0m\n\u001b[1;31mIndentationError\u001b[0m\u001b[1;31m:\u001b[0m unexpected indent\n"
     ]
    }
   ],
   "source": [
    "face = np.array([[res.x, res.y, res.z] for res in results.face_landmarks.landmark]).flatten() \n",
    "    if results.face_landmarks \n",
    "    else np.zeros(1404)\n"
   ]
  },
  {
   "cell_type": "code",
   "execution_count": 17,
   "metadata": {},
   "outputs": [
    {
     "data": {
      "text/plain": [
       "array([0., 0., 0., 0., 0., 0., 0., 0., 0., 0., 0., 0., 0., 0., 0., 0., 0.,\n",
       "       0., 0., 0., 0., 0., 0., 0., 0., 0., 0., 0., 0., 0., 0., 0., 0., 0.,\n",
       "       0., 0., 0., 0., 0., 0., 0., 0., 0., 0., 0., 0., 0., 0., 0., 0., 0.,\n",
       "       0., 0., 0., 0., 0., 0., 0., 0., 0., 0., 0., 0.])"
      ]
     },
     "execution_count": 17,
     "metadata": {},
     "output_type": "execute_result"
    }
   ],
   "source": [
    "rh"
   ]
  },
  {
   "cell_type": "code",
   "execution_count": 18,
   "metadata": {},
   "outputs": [],
   "source": [
    "def extract_keypoints(results):\n",
    "    pose = np.array([[res.x, res.y, res.z, res.visibility] for res in results.pose_landmarks.landmark]).flatten() if results.pose_landmarks else np.zeros(33*4)\n",
    "    face = np.array([[res.x, res.y, res.z] for res in results.face_landmarks.landmark]).flatten() if results.face_landmarks else np.zeros(468*3)\n",
    "    lh = np.array([[res.x, res.y, res.z] for res in results.left_hand_landmarks.landmark]).flatten() if results.left_hand_landmarks else np.zeros(21*3)\n",
    "    rh = np.array([[res.x, res.y, res.z] for res in results.right_hand_landmarks.landmark]).flatten() if results.right_hand_landmarks else np.zeros(21*3)\n",
    "    return np.concatenate([pose, face, lh, rh])"
   ]
  },
  {
   "cell_type": "code",
   "execution_count": 19,
   "metadata": {},
   "outputs": [],
   "source": [
    "result_test = extract_keypoints(results)"
   ]
  },
  {
   "cell_type": "code",
   "execution_count": 20,
   "metadata": {},
   "outputs": [
    {
     "data": {
      "text/plain": [
       "array([ 0.55672759,  0.56645399, -0.45181757, ...,  0.        ,\n",
       "        0.        ,  0.        ])"
      ]
     },
     "execution_count": 20,
     "metadata": {},
     "output_type": "execute_result"
    }
   ],
   "source": [
    "result_test"
   ]
  },
  {
   "cell_type": "code",
   "execution_count": 21,
   "metadata": {},
   "outputs": [],
   "source": [
    "np.save('0', result_test)"
   ]
  },
  {
   "cell_type": "code",
   "execution_count": 22,
   "metadata": {},
   "outputs": [
    {
     "data": {
      "text/plain": [
       "array([ 0.55672759,  0.56645399, -0.45181757, ...,  0.        ,\n",
       "        0.        ,  0.        ])"
      ]
     },
     "execution_count": 22,
     "metadata": {},
     "output_type": "execute_result"
    }
   ],
   "source": [
    "np.load('0.npy')"
   ]
  },
  {
   "cell_type": "markdown",
   "metadata": {},
   "source": [
    "# 4. Setup Folders for Collection"
   ]
  },
  {
   "cell_type": "code",
   "execution_count": 26,
   "metadata": {},
   "outputs": [],
   "source": [
    "# Path for exported data, numpy arrays\n",
    "DATA_PATH = os.path.join('MP_Data') \n",
    "\n",
    "# Actions that we try to detect\n",
    "actions = np.array(['hello', 'thanks', 'Father','Mother','Yes','No','Help','A','B','C'])\n",
    "\n",
    "# Thirty videos worth of data\n",
    "no_sequences = 30\n",
    "\n",
    "# Videos are going to be 30 frames in length\n",
    "sequence_length = 30"
   ]
  },
  {
   "cell_type": "code",
   "execution_count": 27,
   "metadata": {},
   "outputs": [],
   "source": [
    "# hello\n",
    "## 0\n",
    "## 1\n",
    "## 2\n",
    "## ...\n",
    "## 29\n",
    "# thanks\n",
    "\n",
    "# I love you"
   ]
  },
  {
   "cell_type": "code",
   "execution_count": 30,
   "metadata": {},
   "outputs": [],
   "source": [
    "for action in actions: \n",
    "    for sequence in range(no_sequences):\n",
    "        try: \n",
    "            os.makedirs(os.path.join(DATA_PATH, action, str(sequence)))\n",
    "        except:\n",
    "            pass"
   ]
  },
  {
   "cell_type": "markdown",
   "metadata": {},
   "source": [
    "# 5. Collect Keypoint Values for Training and Testing"
   ]
  },
  {
   "cell_type": "code",
   "execution_count": 31,
   "metadata": {},
   "outputs": [
    {
     "ename": "KeyboardInterrupt",
     "evalue": "",
     "output_type": "error",
     "traceback": [
      "\u001b[1;31m---------------------------------------------------------------------------\u001b[0m",
      "\u001b[1;31mKeyboardInterrupt\u001b[0m                         Traceback (most recent call last)",
      "\u001b[1;32m~\\AppData\\Local\\Temp\\ipykernel_18880\\827103846.py\u001b[0m in \u001b[0;36m<module>\u001b[1;34m\u001b[0m\n\u001b[0;32m     29\u001b[0m                     \u001b[1;31m# Show to screen\u001b[0m\u001b[1;33m\u001b[0m\u001b[1;33m\u001b[0m\u001b[0m\n\u001b[0;32m     30\u001b[0m                     \u001b[0mcv2\u001b[0m\u001b[1;33m.\u001b[0m\u001b[0mimshow\u001b[0m\u001b[1;33m(\u001b[0m\u001b[1;34m'OpenCV Feed'\u001b[0m\u001b[1;33m,\u001b[0m \u001b[0mimage\u001b[0m\u001b[1;33m)\u001b[0m\u001b[1;33m\u001b[0m\u001b[1;33m\u001b[0m\u001b[0m\n\u001b[1;32m---> 31\u001b[1;33m                     \u001b[0mcv2\u001b[0m\u001b[1;33m.\u001b[0m\u001b[0mwaitKey\u001b[0m\u001b[1;33m(\u001b[0m\u001b[1;36m2000\u001b[0m\u001b[1;33m)\u001b[0m\u001b[1;33m\u001b[0m\u001b[1;33m\u001b[0m\u001b[0m\n\u001b[0m\u001b[0;32m     32\u001b[0m                 \u001b[1;32melse\u001b[0m\u001b[1;33m:\u001b[0m\u001b[1;33m\u001b[0m\u001b[1;33m\u001b[0m\u001b[0m\n\u001b[0;32m     33\u001b[0m                     cv2.putText(image, 'Collecting frames for {} Video Number {}'.format(action, sequence), (15,12), \n",
      "\u001b[1;31mKeyboardInterrupt\u001b[0m: "
     ]
    }
   ],
   "source": [
    "\n",
    "\n",
    "\n",
    "cap = cv2.VideoCapture(0)\n",
    "# Set mediapipe model \n",
    "with mp_holistic.Holistic(min_detection_confidence=0.5, min_tracking_confidence=0.5) as holistic:\n",
    "    \n",
    "    # NEW LOOP\n",
    "    # Loop through actions\n",
    "    for action in actions:\n",
    "        # Loop through sequences aka videos\n",
    "        for sequence in range(no_sequences):\n",
    "            # Loop through video length aka sequence length\n",
    "            for frame_num in range(sequence_length):\n",
    "\n",
    "                # Read feed\n",
    "                ret, frame = cap.read()\n",
    "\n",
    "                # Make detections\n",
    "                image, results = mediapipe_detection(frame, holistic)\n",
    "#                 print(results)\n",
    "\n",
    "                # Draw landmarks\n",
    "                draw_styled_landmarks(image, results)\n",
    "                \n",
    "                # NEW Apply wait logic\n",
    "                if frame_num == 0: \n",
    "                    cv2.putText(image, 'STARTING COLLECTION', (120,200), \n",
    "                               cv2.FONT_HERSHEY_SIMPLEX, 1, (0,255, 0), 4, cv2.LINE_AA)\n",
    "                    cv2.putText(image, 'Collecting frames for {} Video Number {}'.format(action, sequence), (15,12), \n",
    "                               cv2.FONT_HERSHEY_SIMPLEX, 0.5, (0, 0, 255), 1, cv2.LINE_AA)\n",
    "                    # Show to screen\n",
    "                    cv2.imshow('OpenCV Feed', image)\n",
    "                    cv2.waitKey(2000)\n",
    "                else: \n",
    "                    cv2.putText(image, 'Collecting frames for {} Video Number {}'.format(action, sequence), (15,12), \n",
    "                               cv2.FONT_HERSHEY_SIMPLEX, 0.5, (0, 0, 255), 1, cv2.LINE_AA)\n",
    "                    # Show to screen\n",
    "                    cv2.imshow('OpenCV Feed', image)\n",
    "                \n",
    "                # NEW Export keypoints\n",
    "                keypoints = extract_keypoints(results)\n",
    "                npy_path = os.path.join(DATA_PATH, action, str(sequence), str(frame_num))\n",
    "                np.save(npy_path, keypoints)\n",
    "\n",
    "                # Break gracefully\n",
    "                if cv2.waitKey(10) & 0xFF == ord('q'):\n",
    "                    break\n",
    "                    \n",
    "    cap.release()\n",
    "    cv2.destroyAllWindows()"
   ]
  },
  {
   "cell_type": "code",
   "execution_count": 35,
   "metadata": {},
   "outputs": [],
   "source": [
    "cap.release()\n",
    "cv2.destroyAllWindows()"
   ]
  },
  {
   "cell_type": "markdown",
   "metadata": {},
   "source": [
    "# 6. Preprocess Data and Create Labels and Features"
   ]
  },
  {
   "cell_type": "code",
   "execution_count": 36,
   "metadata": {},
   "outputs": [],
   "source": [
    "from sklearn.model_selection import train_test_split\n",
    "from tensorflow.keras.utils import to_categorical  #make neural network"
   ]
  },
  {
   "cell_type": "code",
   "execution_count": 37,
   "metadata": {},
   "outputs": [],
   "source": [
    "label_map = {label:num for num, label in enumerate(actions)} #saare data ko label kr rha actions ke saath"
   ]
  },
  {
   "cell_type": "code",
   "execution_count": 38,
   "metadata": {},
   "outputs": [
    {
     "data": {
      "text/plain": [
       "{'hello': 0,\n",
       " 'thanks': 1,\n",
       " 'Father': 2,\n",
       " 'Mother': 3,\n",
       " 'Yes': 4,\n",
       " 'No': 5,\n",
       " 'Help': 6,\n",
       " 'A': 7,\n",
       " 'B': 8,\n",
       " 'C': 9}"
      ]
     },
     "execution_count": 38,
     "metadata": {},
     "output_type": "execute_result"
    }
   ],
   "source": [
    "label_map"
   ]
  },
  {
   "cell_type": "code",
   "execution_count": 39,
   "metadata": {},
   "outputs": [],
   "source": [
    "sequences, labels = [], []\n",
    "for action in actions:\n",
    "    for sequence in range(no_sequences):\n",
    "        window = []\n",
    "        for frame_num in range(sequence_length):\n",
    "            res = np.load(os.path.join(DATA_PATH, action, str(sequence), \"{}.npy\".format(frame_num)))\n",
    "            window.append(res)\n",
    "        sequences.append(window)\n",
    "        labels.append(label_map[action])"
   ]
  },
  {
   "cell_type": "code",
   "execution_count": 40,
   "metadata": {},
   "outputs": [
    {
     "data": {
      "text/plain": [
       "(300, 30, 1662)"
      ]
     },
     "execution_count": 40,
     "metadata": {},
     "output_type": "execute_result"
    }
   ],
   "source": [
    "np.array(sequences).shape"
   ]
  },
  {
   "cell_type": "code",
   "execution_count": 41,
   "metadata": {},
   "outputs": [
    {
     "data": {
      "text/plain": [
       "(300,)"
      ]
     },
     "execution_count": 41,
     "metadata": {},
     "output_type": "execute_result"
    }
   ],
   "source": [
    "np.array(labels).shape"
   ]
  },
  {
   "cell_type": "code",
   "execution_count": 42,
   "metadata": {},
   "outputs": [],
   "source": [
    "X = np.array(sequences)"
   ]
  },
  {
   "cell_type": "code",
   "execution_count": 43,
   "metadata": {},
   "outputs": [
    {
     "data": {
      "text/plain": [
       "(300, 30, 1662)"
      ]
     },
     "execution_count": 43,
     "metadata": {},
     "output_type": "execute_result"
    }
   ],
   "source": [
    "X.shape"
   ]
  },
  {
   "cell_type": "code",
   "execution_count": 44,
   "metadata": {},
   "outputs": [],
   "source": [
    "y = to_categorical(labels).astype(int)"
   ]
  },
  {
   "cell_type": "code",
   "execution_count": 45,
   "metadata": {},
   "outputs": [
    {
     "data": {
      "text/plain": [
       "array([[1, 0, 0, ..., 0, 0, 0],\n",
       "       [1, 0, 0, ..., 0, 0, 0],\n",
       "       [1, 0, 0, ..., 0, 0, 0],\n",
       "       ...,\n",
       "       [0, 0, 0, ..., 0, 0, 1],\n",
       "       [0, 0, 0, ..., 0, 0, 1],\n",
       "       [0, 0, 0, ..., 0, 0, 1]])"
      ]
     },
     "execution_count": 45,
     "metadata": {},
     "output_type": "execute_result"
    }
   ],
   "source": [
    "y"
   ]
  },
  {
   "cell_type": "code",
   "execution_count": 46,
   "metadata": {},
   "outputs": [],
   "source": [
    "X_train, X_test, y_train, y_test = train_test_split(X, y, test_size=0.1)"
   ]
  },
  {
   "cell_type": "code",
   "execution_count": 47,
   "metadata": {},
   "outputs": [
    {
     "data": {
      "text/plain": [
       "(30, 10)"
      ]
     },
     "execution_count": 47,
     "metadata": {},
     "output_type": "execute_result"
    }
   ],
   "source": [
    "y_test.shape"
   ]
  },
  {
   "cell_type": "markdown",
   "metadata": {},
   "source": [
    "# 7. Build and Train LSTM Neural Network"
   ]
  },
  {
   "cell_type": "code",
   "execution_count": 48,
   "metadata": {},
   "outputs": [],
   "source": [
    "from tensorflow.keras.models import Sequential\n",
    "from tensorflow.keras.layers import LSTM, Dense\n",
    "from tensorflow.keras.callbacks import TensorBoard"
   ]
  },
  {
   "cell_type": "code",
   "execution_count": 49,
   "metadata": {},
   "outputs": [],
   "source": [
    "log_dir = os.path.join('Logs')\n",
    "tb_callback = TensorBoard(log_dir=log_dir)"
   ]
  },
  {
   "cell_type": "code",
   "execution_count": 50,
   "metadata": {},
   "outputs": [],
   "source": [
    "model = Sequential()\n",
    "model.add(LSTM(64, return_sequences=True, activation='relu', input_shape=(30,1662))) #total 6 layers hidden\n",
    "model.add(LSTM(128, return_sequences=True, activation='relu'))\n",
    "model.add(LSTM(64, return_sequences=False, activation='relu'))\n",
    "model.add(Dense(64, activation='relu'))\n",
    "model.add(Dense(32, activation='relu'))\n",
    "model.add(Dense(actions.shape[0], activation='softmax'))"
   ]
  },
  {
   "cell_type": "code",
   "execution_count": 51,
   "metadata": {},
   "outputs": [],
   "source": [
    "res = [.7, 0.2, 0.1]"
   ]
  },
  {
   "cell_type": "code",
   "execution_count": 52,
   "metadata": {},
   "outputs": [
    {
     "data": {
      "text/plain": [
       "'hello'"
      ]
     },
     "execution_count": 52,
     "metadata": {},
     "output_type": "execute_result"
    }
   ],
   "source": [
    "actions[np.argmax(res)]"
   ]
  },
  {
   "cell_type": "code",
   "execution_count": 53,
   "metadata": {},
   "outputs": [],
   "source": [
    "model.compile(optimizer='Adam', loss='categorical_crossentropy', metrics=['categorical_accuracy'])"
   ]
  },
  {
   "cell_type": "code",
   "execution_count": 81,
   "metadata": {
    "scrolled": true
   },
   "outputs": [
    {
     "name": "stdout",
     "output_type": "stream",
     "text": [
      "Epoch 1/200\n",
      "9/9 [==============================] - 6s 61ms/step - loss: 2.7976 - categorical_accuracy: 0.0963\n",
      "Epoch 2/200\n",
      "9/9 [==============================] - 1s 61ms/step - loss: 2.5124 - categorical_accuracy: 0.0852\n",
      "Epoch 3/200\n",
      "9/9 [==============================] - 1s 60ms/step - loss: 2.2983 - categorical_accuracy: 0.1074\n",
      "Epoch 4/200\n",
      "9/9 [==============================] - 1s 61ms/step - loss: 2.1863 - categorical_accuracy: 0.1963\n",
      "Epoch 5/200\n",
      "9/9 [==============================] - 1s 60ms/step - loss: 2.1622 - categorical_accuracy: 0.1889\n",
      "Epoch 6/200\n",
      "9/9 [==============================] - 1s 62ms/step - loss: 2.0747 - categorical_accuracy: 0.2148\n",
      "Epoch 7/200\n",
      "9/9 [==============================] - 1s 57ms/step - loss: 1.9316 - categorical_accuracy: 0.2481\n",
      "Epoch 8/200\n",
      "9/9 [==============================] - 1s 61ms/step - loss: 1.8686 - categorical_accuracy: 0.3111\n",
      "Epoch 9/200\n",
      "9/9 [==============================] - 1s 63ms/step - loss: 1.8054 - categorical_accuracy: 0.3259\n",
      "Epoch 10/200\n",
      "9/9 [==============================] - 1s 63ms/step - loss: 1.6870 - categorical_accuracy: 0.3852\n",
      "Epoch 11/200\n",
      "9/9 [==============================] - 1s 60ms/step - loss: 2.0039 - categorical_accuracy: 0.3333\n",
      "Epoch 12/200\n",
      "9/9 [==============================] - 1s 63ms/step - loss: 1.6990 - categorical_accuracy: 0.3481\n",
      "Epoch 13/200\n",
      "9/9 [==============================] - 1s 64ms/step - loss: 1.6957 - categorical_accuracy: 0.3444\n",
      "Epoch 14/200\n",
      "9/9 [==============================] - 1s 62ms/step - loss: 1.5813 - categorical_accuracy: 0.4704\n",
      "Epoch 15/200\n",
      "9/9 [==============================] - 1s 64ms/step - loss: 1.4604 - categorical_accuracy: 0.4037\n",
      "Epoch 16/200\n",
      "9/9 [==============================] - 1s 61ms/step - loss: 1.3116 - categorical_accuracy: 0.5148\n",
      "Epoch 17/200\n",
      "9/9 [==============================] - 1s 62ms/step - loss: 1.3055 - categorical_accuracy: 0.5037\n",
      "Epoch 18/200\n",
      "9/9 [==============================] - 1s 63ms/step - loss: 1.2433 - categorical_accuracy: 0.4778\n",
      "Epoch 19/200\n",
      "9/9 [==============================] - 1s 61ms/step - loss: 1.1349 - categorical_accuracy: 0.5963\n",
      "Epoch 20/200\n",
      "9/9 [==============================] - 1s 65ms/step - loss: 1.0675 - categorical_accuracy: 0.5741\n",
      "Epoch 21/200\n",
      "9/9 [==============================] - 1s 63ms/step - loss: 1.0997 - categorical_accuracy: 0.5667\n",
      "Epoch 22/200\n",
      "9/9 [==============================] - 1s 64ms/step - loss: 1.0537 - categorical_accuracy: 0.5593\n",
      "Epoch 23/200\n",
      "9/9 [==============================] - 1s 62ms/step - loss: 0.9904 - categorical_accuracy: 0.5963\n",
      "Epoch 24/200\n",
      "9/9 [==============================] - 1s 66ms/step - loss: 0.8932 - categorical_accuracy: 0.6259\n",
      "Epoch 25/200\n",
      "9/9 [==============================] - 1s 78ms/step - loss: 1.2395 - categorical_accuracy: 0.5296\n",
      "Epoch 26/200\n",
      "9/9 [==============================] - 1s 84ms/step - loss: 1.3886 - categorical_accuracy: 0.4741\n",
      "Epoch 27/200\n",
      "9/9 [==============================] - 1s 82ms/step - loss: 1.1679 - categorical_accuracy: 0.5963\n",
      "Epoch 28/200\n",
      "9/9 [==============================] - 1s 81ms/step - loss: 0.9646 - categorical_accuracy: 0.6259\n",
      "Epoch 29/200\n",
      "9/9 [==============================] - 1s 80ms/step - loss: 0.8924 - categorical_accuracy: 0.6370\n",
      "Epoch 30/200\n",
      "9/9 [==============================] - 1s 86ms/step - loss: 0.8965 - categorical_accuracy: 0.6667\n",
      "Epoch 31/200\n",
      "9/9 [==============================] - 1s 80ms/step - loss: 0.8491 - categorical_accuracy: 0.6519\n",
      "Epoch 32/200\n",
      "9/9 [==============================] - 1s 89ms/step - loss: 1.1033 - categorical_accuracy: 0.5852\n",
      "Epoch 33/200\n",
      "9/9 [==============================] - 1s 76ms/step - loss: 1.7942 - categorical_accuracy: 0.5704\n",
      "Epoch 34/200\n",
      "9/9 [==============================] - 1s 75ms/step - loss: 1.1296 - categorical_accuracy: 0.5222\n",
      "Epoch 35/200\n",
      "9/9 [==============================] - 1s 83ms/step - loss: 1.0185 - categorical_accuracy: 0.5778\n",
      "Epoch 36/200\n",
      "9/9 [==============================] - 1s 80ms/step - loss: 2.9443 - categorical_accuracy: 0.6148\n",
      "Epoch 37/200\n",
      "9/9 [==============================] - 1s 75ms/step - loss: 4.0037 - categorical_accuracy: 0.0963\n",
      "Epoch 38/200\n",
      "9/9 [==============================] - 1s 88ms/step - loss: 2.3558 - categorical_accuracy: 0.1556\n",
      "Epoch 39/200\n",
      "9/9 [==============================] - 1s 77ms/step - loss: 1.9670 - categorical_accuracy: 0.2074\n",
      "Epoch 40/200\n",
      "9/9 [==============================] - 1s 78ms/step - loss: 1.8396 - categorical_accuracy: 0.3259\n",
      "Epoch 41/200\n",
      "9/9 [==============================] - 1s 86ms/step - loss: 1.6822 - categorical_accuracy: 0.3370\n",
      "Epoch 42/200\n",
      "9/9 [==============================] - 1s 76ms/step - loss: 1.5829 - categorical_accuracy: 0.4556\n",
      "Epoch 43/200\n",
      "9/9 [==============================] - 1s 80ms/step - loss: 1.9384 - categorical_accuracy: 0.2741\n",
      "Epoch 44/200\n",
      "9/9 [==============================] - 1s 86ms/step - loss: 1.8283 - categorical_accuracy: 0.2852\n",
      "Epoch 45/200\n",
      "9/9 [==============================] - 1s 79ms/step - loss: 1.7114 - categorical_accuracy: 0.3074\n",
      "Epoch 46/200\n",
      "9/9 [==============================] - 1s 83ms/step - loss: 1.6482 - categorical_accuracy: 0.4444\n",
      "Epoch 47/200\n",
      "9/9 [==============================] - 1s 82ms/step - loss: 1.5901 - categorical_accuracy: 0.3111\n",
      "Epoch 48/200\n",
      "9/9 [==============================] - 1s 83ms/step - loss: 1.4476 - categorical_accuracy: 0.5037\n",
      "Epoch 49/200\n",
      "9/9 [==============================] - 1s 81ms/step - loss: 1.3162 - categorical_accuracy: 0.5000\n",
      "Epoch 50/200\n",
      "9/9 [==============================] - 1s 83ms/step - loss: 1.2299 - categorical_accuracy: 0.5259\n",
      "Epoch 51/200\n",
      "9/9 [==============================] - 1s 82ms/step - loss: 1.3051 - categorical_accuracy: 0.5259\n",
      "Epoch 52/200\n",
      "9/9 [==============================] - 1s 83ms/step - loss: 1.0949 - categorical_accuracy: 0.5407\n",
      "Epoch 53/200\n",
      "9/9 [==============================] - 1s 82ms/step - loss: 1.0252 - categorical_accuracy: 0.6111\n",
      "Epoch 54/200\n",
      "9/9 [==============================] - 1s 77ms/step - loss: 0.9347 - categorical_accuracy: 0.6333\n",
      "Epoch 55/200\n",
      "9/9 [==============================] - 1s 85ms/step - loss: 1.0025 - categorical_accuracy: 0.6370\n",
      "Epoch 56/200\n",
      "9/9 [==============================] - 1s 78ms/step - loss: 1.0100 - categorical_accuracy: 0.5889\n",
      "Epoch 57/200\n",
      "9/9 [==============================] - 1s 80ms/step - loss: 0.9352 - categorical_accuracy: 0.6185\n",
      "Epoch 58/200\n",
      "9/9 [==============================] - 1s 82ms/step - loss: 1.0258 - categorical_accuracy: 0.5926\n",
      "Epoch 59/200\n",
      "9/9 [==============================] - 1s 84ms/step - loss: 1.1088 - categorical_accuracy: 0.5667\n",
      "Epoch 60/200\n",
      "9/9 [==============================] - 1s 82ms/step - loss: 1.0457 - categorical_accuracy: 0.6111\n",
      "Epoch 61/200\n",
      "9/9 [==============================] - 1s 83ms/step - loss: 0.9479 - categorical_accuracy: 0.6111\n",
      "Epoch 62/200\n",
      "9/9 [==============================] - 1s 84ms/step - loss: 0.8932 - categorical_accuracy: 0.6778\n",
      "Epoch 63/200\n",
      "9/9 [==============================] - 1s 80ms/step - loss: 0.8613 - categorical_accuracy: 0.6704\n",
      "Epoch 64/200\n",
      "9/9 [==============================] - 1s 83ms/step - loss: 0.7876 - categorical_accuracy: 0.6815\n",
      "Epoch 65/200\n",
      "9/9 [==============================] - 1s 81ms/step - loss: 0.7370 - categorical_accuracy: 0.7185\n",
      "Epoch 66/200\n",
      "9/9 [==============================] - 1s 84ms/step - loss: 0.7383 - categorical_accuracy: 0.7037\n",
      "Epoch 67/200\n",
      "9/9 [==============================] - 1s 84ms/step - loss: 0.7367 - categorical_accuracy: 0.6926\n",
      "Epoch 68/200\n",
      "9/9 [==============================] - 1s 78ms/step - loss: 0.6835 - categorical_accuracy: 0.7259\n",
      "Epoch 69/200\n",
      "9/9 [==============================] - 1s 80ms/step - loss: 0.7434 - categorical_accuracy: 0.6778\n",
      "Epoch 70/200\n",
      "9/9 [==============================] - 1s 86ms/step - loss: 0.6717 - categorical_accuracy: 0.7333\n",
      "Epoch 71/200\n",
      "9/9 [==============================] - 1s 88ms/step - loss: 0.7797 - categorical_accuracy: 0.6852\n",
      "Epoch 72/200\n",
      "9/9 [==============================] - 1s 81ms/step - loss: 0.7051 - categorical_accuracy: 0.7148\n",
      "Epoch 73/200\n",
      "9/9 [==============================] - 1s 80ms/step - loss: 0.6506 - categorical_accuracy: 0.7370\n",
      "Epoch 74/200\n",
      "9/9 [==============================] - 1s 79ms/step - loss: 0.6423 - categorical_accuracy: 0.7259\n",
      "Epoch 75/200\n",
      "9/9 [==============================] - 1s 82ms/step - loss: 0.7202 - categorical_accuracy: 0.7000\n",
      "Epoch 76/200\n",
      "9/9 [==============================] - 1s 77ms/step - loss: 0.6438 - categorical_accuracy: 0.7519\n",
      "Epoch 77/200\n",
      "9/9 [==============================] - 1s 86ms/step - loss: 0.7303 - categorical_accuracy: 0.7074\n",
      "Epoch 78/200\n",
      "9/9 [==============================] - 1s 81ms/step - loss: 0.6680 - categorical_accuracy: 0.7148\n",
      "Epoch 79/200\n",
      "9/9 [==============================] - 1s 80ms/step - loss: 0.7300 - categorical_accuracy: 0.6963\n",
      "Epoch 80/200\n",
      "9/9 [==============================] - 1s 84ms/step - loss: 0.7308 - categorical_accuracy: 0.6889\n",
      "Epoch 81/200\n",
      "9/9 [==============================] - 1s 86ms/step - loss: 0.6963 - categorical_accuracy: 0.6926\n",
      "Epoch 82/200\n",
      "9/9 [==============================] - 1s 81ms/step - loss: 0.7419 - categorical_accuracy: 0.6926\n",
      "Epoch 83/200\n",
      "9/9 [==============================] - 1s 81ms/step - loss: 0.6365 - categorical_accuracy: 0.7407\n",
      "Epoch 84/200\n",
      "9/9 [==============================] - 1s 82ms/step - loss: 0.5924 - categorical_accuracy: 0.7630\n",
      "Epoch 85/200\n",
      "9/9 [==============================] - 1s 77ms/step - loss: 0.5660 - categorical_accuracy: 0.7481\n",
      "Epoch 86/200\n",
      "9/9 [==============================] - 1s 83ms/step - loss: 0.5649 - categorical_accuracy: 0.7519\n",
      "Epoch 87/200\n",
      "9/9 [==============================] - 1s 81ms/step - loss: 0.6253 - categorical_accuracy: 0.7407\n",
      "Epoch 88/200\n",
      "9/9 [==============================] - 1s 80ms/step - loss: 0.5871 - categorical_accuracy: 0.7481\n",
      "Epoch 89/200\n",
      "9/9 [==============================] - 1s 82ms/step - loss: 0.6136 - categorical_accuracy: 0.7444\n",
      "Epoch 90/200\n",
      "9/9 [==============================] - 1s 83ms/step - loss: 0.5622 - categorical_accuracy: 0.7815\n",
      "Epoch 91/200\n",
      "9/9 [==============================] - 1s 87ms/step - loss: 0.5745 - categorical_accuracy: 0.7407\n",
      "Epoch 92/200\n",
      "9/9 [==============================] - 1s 82ms/step - loss: 0.5786 - categorical_accuracy: 0.7667\n",
      "Epoch 93/200\n",
      "9/9 [==============================] - 1s 78ms/step - loss: 0.6130 - categorical_accuracy: 0.7222\n",
      "Epoch 94/200\n",
      "9/9 [==============================] - 1s 84ms/step - loss: 0.5656 - categorical_accuracy: 0.7444\n",
      "Epoch 95/200\n",
      "9/9 [==============================] - 1s 81ms/step - loss: 0.5416 - categorical_accuracy: 0.7667\n",
      "Epoch 96/200\n",
      "9/9 [==============================] - 1s 78ms/step - loss: 0.5433 - categorical_accuracy: 0.7296\n",
      "Epoch 97/200\n",
      "9/9 [==============================] - 1s 83ms/step - loss: 0.6379 - categorical_accuracy: 0.7296\n",
      "Epoch 98/200\n",
      "9/9 [==============================] - 1s 78ms/step - loss: 0.7572 - categorical_accuracy: 0.6667\n",
      "Epoch 99/200\n",
      "9/9 [==============================] - 1s 84ms/step - loss: 0.6405 - categorical_accuracy: 0.7037\n",
      "Epoch 100/200\n",
      "9/9 [==============================] - 1s 83ms/step - loss: 0.5556 - categorical_accuracy: 0.7630\n",
      "Epoch 101/200\n",
      "9/9 [==============================] - 1s 85ms/step - loss: 0.5405 - categorical_accuracy: 0.7778\n",
      "Epoch 102/200\n",
      "9/9 [==============================] - 1s 79ms/step - loss: 0.6567 - categorical_accuracy: 0.7148\n",
      "Epoch 103/200\n",
      "9/9 [==============================] - 1s 82ms/step - loss: 0.6319 - categorical_accuracy: 0.6963\n",
      "Epoch 104/200\n",
      "9/9 [==============================] - 1s 80ms/step - loss: 0.5612 - categorical_accuracy: 0.7704\n",
      "Epoch 105/200\n",
      "9/9 [==============================] - 1s 79ms/step - loss: 0.4882 - categorical_accuracy: 0.7852\n",
      "Epoch 106/200\n",
      "9/9 [==============================] - 1s 82ms/step - loss: 0.6765 - categorical_accuracy: 0.7407\n",
      "Epoch 107/200\n",
      "9/9 [==============================] - 1s 81ms/step - loss: 0.8450 - categorical_accuracy: 0.6333\n",
      "Epoch 108/200\n",
      "9/9 [==============================] - 1s 97ms/step - loss: 0.8125 - categorical_accuracy: 0.6741\n",
      "Epoch 109/200\n",
      "9/9 [==============================] - 1s 96ms/step - loss: 0.6444 - categorical_accuracy: 0.7259\n",
      "Epoch 110/200\n",
      "9/9 [==============================] - 1s 108ms/step - loss: 0.5942 - categorical_accuracy: 0.7741\n",
      "Epoch 111/200\n",
      "9/9 [==============================] - 1s 100ms/step - loss: 0.5377 - categorical_accuracy: 0.7704\n",
      "Epoch 112/200\n",
      "9/9 [==============================] - 1s 99ms/step - loss: 0.5114 - categorical_accuracy: 0.7667\n",
      "Epoch 113/200\n",
      "9/9 [==============================] - 1s 85ms/step - loss: 0.5346 - categorical_accuracy: 0.7778\n",
      "Epoch 114/200\n",
      "9/9 [==============================] - 1s 89ms/step - loss: 0.5215 - categorical_accuracy: 0.7852\n",
      "Epoch 115/200\n",
      "9/9 [==============================] - 1s 85ms/step - loss: 0.5796 - categorical_accuracy: 0.7370\n",
      "Epoch 116/200\n",
      "9/9 [==============================] - 1s 84ms/step - loss: 0.5501 - categorical_accuracy: 0.7519\n",
      "Epoch 117/200\n",
      "9/9 [==============================] - 1s 96ms/step - loss: 0.5825 - categorical_accuracy: 0.7444\n",
      "Epoch 118/200\n",
      "9/9 [==============================] - 1s 101ms/step - loss: 0.5982 - categorical_accuracy: 0.7519\n",
      "Epoch 119/200\n",
      "9/9 [==============================] - 1s 83ms/step - loss: 0.5127 - categorical_accuracy: 0.7963\n",
      "Epoch 120/200\n",
      "9/9 [==============================] - 1s 82ms/step - loss: 0.5192 - categorical_accuracy: 0.7519\n",
      "Epoch 121/200\n",
      "9/9 [==============================] - 1s 85ms/step - loss: 0.5066 - categorical_accuracy: 0.7741\n",
      "Epoch 122/200\n",
      "9/9 [==============================] - 1s 86ms/step - loss: 0.4820 - categorical_accuracy: 0.7815\n",
      "Epoch 123/200\n",
      "9/9 [==============================] - 1s 86ms/step - loss: 0.4628 - categorical_accuracy: 0.7741\n",
      "Epoch 124/200\n",
      "9/9 [==============================] - 1s 90ms/step - loss: 0.4879 - categorical_accuracy: 0.7667\n",
      "Epoch 125/200\n",
      "9/9 [==============================] - 1s 87ms/step - loss: 0.4715 - categorical_accuracy: 0.7963\n",
      "Epoch 126/200\n",
      "9/9 [==============================] - 1s 87ms/step - loss: 0.4402 - categorical_accuracy: 0.7963\n",
      "Epoch 127/200\n",
      "9/9 [==============================] - 1s 97ms/step - loss: 0.5139 - categorical_accuracy: 0.7889\n",
      "Epoch 128/200\n",
      "9/9 [==============================] - 1s 80ms/step - loss: 0.4296 - categorical_accuracy: 0.8037\n",
      "Epoch 129/200\n",
      "9/9 [==============================] - 1s 81ms/step - loss: 0.5103 - categorical_accuracy: 0.7852\n",
      "Epoch 130/200\n",
      "9/9 [==============================] - 1s 81ms/step - loss: 0.7482 - categorical_accuracy: 0.7259\n",
      "Epoch 131/200\n",
      "9/9 [==============================] - 1s 78ms/step - loss: 0.6225 - categorical_accuracy: 0.7704\n",
      "Epoch 132/200\n",
      "9/9 [==============================] - 1s 82ms/step - loss: 0.4723 - categorical_accuracy: 0.7852\n",
      "Epoch 133/200\n",
      "9/9 [==============================] - 1s 82ms/step - loss: 0.4280 - categorical_accuracy: 0.8074\n",
      "Epoch 134/200\n",
      "9/9 [==============================] - 1s 85ms/step - loss: 0.5247 - categorical_accuracy: 0.7704\n",
      "Epoch 135/200\n",
      "9/9 [==============================] - 1s 83ms/step - loss: 0.6503 - categorical_accuracy: 0.7444\n",
      "Epoch 136/200\n",
      "9/9 [==============================] - 1s 84ms/step - loss: 4.3369 - categorical_accuracy: 0.2370\n",
      "Epoch 137/200\n",
      "9/9 [==============================] - 1s 86ms/step - loss: 2.3287 - categorical_accuracy: 0.1815\n",
      "Epoch 138/200\n",
      "9/9 [==============================] - 1s 81ms/step - loss: 2.0975 - categorical_accuracy: 0.1556\n",
      "Epoch 139/200\n",
      "9/9 [==============================] - 1s 82ms/step - loss: 2.0614 - categorical_accuracy: 0.1704\n",
      "Epoch 140/200\n",
      "9/9 [==============================] - 1s 87ms/step - loss: 1.9943 - categorical_accuracy: 0.1963\n",
      "Epoch 141/200\n",
      "9/9 [==============================] - 1s 95ms/step - loss: 1.9109 - categorical_accuracy: 0.2296\n",
      "Epoch 142/200\n",
      "9/9 [==============================] - 1s 92ms/step - loss: 1.8461 - categorical_accuracy: 0.2778\n",
      "Epoch 143/200\n",
      "9/9 [==============================] - 1s 83ms/step - loss: 1.7734 - categorical_accuracy: 0.2630\n",
      "Epoch 144/200\n",
      "9/9 [==============================] - 1s 83ms/step - loss: 1.7969 - categorical_accuracy: 0.2741\n",
      "Epoch 145/200\n",
      "9/9 [==============================] - 1s 87ms/step - loss: 1.6903 - categorical_accuracy: 0.2963\n",
      "Epoch 146/200\n",
      "9/9 [==============================] - 1s 85ms/step - loss: 1.6666 - categorical_accuracy: 0.3259\n",
      "Epoch 147/200\n"
     ]
    },
    {
     "name": "stdout",
     "output_type": "stream",
     "text": [
      "9/9 [==============================] - 1s 79ms/step - loss: 1.5490 - categorical_accuracy: 0.3481\n",
      "Epoch 148/200\n",
      "9/9 [==============================] - 1s 82ms/step - loss: 1.5028 - categorical_accuracy: 0.3852\n",
      "Epoch 149/200\n",
      "9/9 [==============================] - 1s 85ms/step - loss: 1.4165 - categorical_accuracy: 0.3926\n",
      "Epoch 150/200\n",
      "9/9 [==============================] - 1s 85ms/step - loss: 1.3198 - categorical_accuracy: 0.4889\n",
      "Epoch 151/200\n",
      "9/9 [==============================] - 1s 88ms/step - loss: 1.3635 - categorical_accuracy: 0.4593\n",
      "Epoch 152/200\n",
      "9/9 [==============================] - 1s 81ms/step - loss: 1.3719 - categorical_accuracy: 0.4370\n",
      "Epoch 153/200\n",
      "9/9 [==============================] - 1s 84ms/step - loss: 1.3167 - categorical_accuracy: 0.4963\n",
      "Epoch 154/200\n",
      "9/9 [==============================] - 1s 81ms/step - loss: 1.2667 - categorical_accuracy: 0.5296\n",
      "Epoch 155/200\n",
      "9/9 [==============================] - 1s 82ms/step - loss: 1.1957 - categorical_accuracy: 0.5481\n",
      "Epoch 156/200\n",
      "9/9 [==============================] - 1s 80ms/step - loss: 1.2118 - categorical_accuracy: 0.5481\n",
      "Epoch 157/200\n",
      "9/9 [==============================] - 1s 83ms/step - loss: 1.3176 - categorical_accuracy: 0.4815\n",
      "Epoch 158/200\n",
      "9/9 [==============================] - 1s 81ms/step - loss: 1.1780 - categorical_accuracy: 0.5778\n",
      "Epoch 159/200\n",
      "9/9 [==============================] - 1s 83ms/step - loss: 1.1253 - categorical_accuracy: 0.6259\n",
      "Epoch 160/200\n",
      "9/9 [==============================] - 1s 80ms/step - loss: 1.0535 - categorical_accuracy: 0.6037\n",
      "Epoch 161/200\n",
      "9/9 [==============================] - 1s 86ms/step - loss: 0.9750 - categorical_accuracy: 0.6852\n",
      "Epoch 162/200\n",
      "9/9 [==============================] - 1s 83ms/step - loss: 0.9253 - categorical_accuracy: 0.6556\n",
      "Epoch 163/200\n",
      "9/9 [==============================] - 1s 79ms/step - loss: 1.0039 - categorical_accuracy: 0.6259\n",
      "Epoch 164/200\n",
      "9/9 [==============================] - 1s 84ms/step - loss: 0.8947 - categorical_accuracy: 0.6778\n",
      "Epoch 165/200\n",
      "9/9 [==============================] - 1s 84ms/step - loss: 1.0409 - categorical_accuracy: 0.6667\n",
      "Epoch 166/200\n",
      "9/9 [==============================] - 1s 81ms/step - loss: 2.3040 - categorical_accuracy: 0.4556\n",
      "Epoch 167/200\n",
      "9/9 [==============================] - 1s 85ms/step - loss: 1.8027 - categorical_accuracy: 0.3889\n",
      "Epoch 168/200\n",
      "9/9 [==============================] - 1s 84ms/step - loss: 1.4606 - categorical_accuracy: 0.5037\n",
      "Epoch 169/200\n",
      "9/9 [==============================] - 1s 84ms/step - loss: 1.2805 - categorical_accuracy: 0.5889\n",
      "Epoch 170/200\n",
      "9/9 [==============================] - 1s 83ms/step - loss: 1.1188 - categorical_accuracy: 0.6407\n",
      "Epoch 171/200\n",
      "9/9 [==============================] - 1s 81ms/step - loss: 1.0037 - categorical_accuracy: 0.6185\n",
      "Epoch 172/200\n",
      "9/9 [==============================] - 1s 84ms/step - loss: 0.9538 - categorical_accuracy: 0.6444\n",
      "Epoch 173/200\n",
      "9/9 [==============================] - 1s 83ms/step - loss: 0.9354 - categorical_accuracy: 0.6370\n",
      "Epoch 174/200\n",
      "9/9 [==============================] - 1s 81ms/step - loss: 0.8531 - categorical_accuracy: 0.6667\n",
      "Epoch 175/200\n",
      "9/9 [==============================] - 1s 90ms/step - loss: 0.7990 - categorical_accuracy: 0.7000\n",
      "Epoch 176/200\n",
      "9/9 [==============================] - 1s 80ms/step - loss: 0.7745 - categorical_accuracy: 0.7148\n",
      "Epoch 177/200\n",
      "9/9 [==============================] - 1s 83ms/step - loss: 0.7866 - categorical_accuracy: 0.7037\n",
      "Epoch 178/200\n",
      "9/9 [==============================] - 1s 85ms/step - loss: 0.8409 - categorical_accuracy: 0.6778\n",
      "Epoch 179/200\n",
      "9/9 [==============================] - 1s 82ms/step - loss: 0.7208 - categorical_accuracy: 0.7407\n",
      "Epoch 180/200\n",
      "9/9 [==============================] - 1s 82ms/step - loss: 0.7811 - categorical_accuracy: 0.7037\n",
      "Epoch 181/200\n",
      "9/9 [==============================] - 1s 82ms/step - loss: 0.7084 - categorical_accuracy: 0.7148\n",
      "Epoch 182/200\n",
      "9/9 [==============================] - 1s 85ms/step - loss: 0.6409 - categorical_accuracy: 0.7370\n",
      "Epoch 183/200\n",
      "9/9 [==============================] - 1s 88ms/step - loss: 0.6524 - categorical_accuracy: 0.7519\n",
      "Epoch 184/200\n",
      "9/9 [==============================] - 1s 82ms/step - loss: 0.6391 - categorical_accuracy: 0.7407\n",
      "Epoch 185/200\n",
      "9/9 [==============================] - 1s 86ms/step - loss: 0.6028 - categorical_accuracy: 0.7741\n",
      "Epoch 186/200\n",
      "9/9 [==============================] - 1s 87ms/step - loss: 0.6069 - categorical_accuracy: 0.7704\n",
      "Epoch 187/200\n",
      "9/9 [==============================] - 1s 83ms/step - loss: 0.6212 - categorical_accuracy: 0.7778\n",
      "Epoch 188/200\n",
      "9/9 [==============================] - 1s 85ms/step - loss: 0.6030 - categorical_accuracy: 0.7593\n",
      "Epoch 189/200\n",
      "9/9 [==============================] - 1s 93ms/step - loss: 0.5273 - categorical_accuracy: 0.7889\n",
      "Epoch 190/200\n",
      "9/9 [==============================] - 1s 78ms/step - loss: 0.5630 - categorical_accuracy: 0.7926\n",
      "Epoch 191/200\n",
      "9/9 [==============================] - 1s 84ms/step - loss: 0.5095 - categorical_accuracy: 0.8111\n",
      "Epoch 192/200\n",
      "9/9 [==============================] - 1s 85ms/step - loss: 0.5903 - categorical_accuracy: 0.7667\n",
      "Epoch 193/200\n",
      "9/9 [==============================] - 1s 88ms/step - loss: 0.5867 - categorical_accuracy: 0.7704\n",
      "Epoch 194/200\n",
      "9/9 [==============================] - 1s 84ms/step - loss: 0.4738 - categorical_accuracy: 0.8074\n",
      "Epoch 195/200\n",
      "9/9 [==============================] - 1s 86ms/step - loss: 0.5129 - categorical_accuracy: 0.7704\n",
      "Epoch 196/200\n",
      "9/9 [==============================] - 1s 80ms/step - loss: 0.4751 - categorical_accuracy: 0.8037\n",
      "Epoch 197/200\n",
      "9/9 [==============================] - 1s 84ms/step - loss: 0.5323 - categorical_accuracy: 0.7778\n",
      "Epoch 198/200\n",
      "9/9 [==============================] - 1s 88ms/step - loss: 0.6016 - categorical_accuracy: 0.7444\n",
      "Epoch 199/200\n",
      "9/9 [==============================] - 1s 85ms/step - loss: 0.4816 - categorical_accuracy: 0.8000\n",
      "Epoch 200/200\n",
      "9/9 [==============================] - 1s 87ms/step - loss: 0.5354 - categorical_accuracy: 0.7963\n"
     ]
    },
    {
     "data": {
      "text/plain": [
       "<keras.src.callbacks.History at 0x2599e2f8550>"
      ]
     },
     "execution_count": 81,
     "metadata": {},
     "output_type": "execute_result"
    }
   ],
   "source": [
    "model.fit(X_train, y_train, epochs=200, callbacks=[tb_callback]) #fit the model train  and save "
   ]
  },
  {
   "cell_type": "code",
   "execution_count": 82,
   "metadata": {},
   "outputs": [
    {
     "name": "stdout",
     "output_type": "stream",
     "text": [
      "Model: \"sequential_3\"\n",
      "_________________________________________________________________\n",
      " Layer (type)                Output Shape              Param #   \n",
      "=================================================================\n",
      " lstm_9 (LSTM)               (None, 30, 64)            442112    \n",
      "                                                                 \n",
      " lstm_10 (LSTM)              (None, 30, 128)           98816     \n",
      "                                                                 \n",
      " lstm_11 (LSTM)              (None, 64)                49408     \n",
      "                                                                 \n",
      " dense_8 (Dense)             (None, 64)                4160      \n",
      "                                                                 \n",
      " dense_9 (Dense)             (None, 32)                2080      \n",
      "                                                                 \n",
      " dense_10 (Dense)            (None, 10)                330       \n",
      "                                                                 \n",
      "=================================================================\n",
      "Total params: 596906 (2.28 MB)\n",
      "Trainable params: 596906 (2.28 MB)\n",
      "Non-trainable params: 0 (0.00 Byte)\n",
      "_________________________________________________________________\n"
     ]
    }
   ],
   "source": [
    "model.summary()"
   ]
  },
  {
   "cell_type": "markdown",
   "metadata": {},
   "source": [
    "# 8. Make Predictions"
   ]
  },
  {
   "cell_type": "code",
   "execution_count": 28,
   "metadata": {},
   "outputs": [
    {
     "ename": "NameError",
     "evalue": "name 'model' is not defined",
     "output_type": "error",
     "traceback": [
      "\u001b[1;31m---------------------------------------------------------------------------\u001b[0m",
      "\u001b[1;31mNameError\u001b[0m                                 Traceback (most recent call last)",
      "\u001b[1;32m~\\AppData\\Local\\Temp\\ipykernel_18776\\2558247089.py\u001b[0m in \u001b[0;36m<module>\u001b[1;34m\u001b[0m\n\u001b[1;32m----> 1\u001b[1;33m \u001b[0mres\u001b[0m \u001b[1;33m=\u001b[0m \u001b[0mmodel\u001b[0m\u001b[1;33m.\u001b[0m\u001b[0mpredict\u001b[0m\u001b[1;33m(\u001b[0m\u001b[0mX_test\u001b[0m\u001b[1;33m)\u001b[0m\u001b[1;33m\u001b[0m\u001b[1;33m\u001b[0m\u001b[0m\n\u001b[0m",
      "\u001b[1;31mNameError\u001b[0m: name 'model' is not defined"
     ]
    }
   ],
   "source": [
    "res = model.predict(X_test)"
   ]
  },
  {
   "cell_type": "code",
   "execution_count": 84,
   "metadata": {},
   "outputs": [
    {
     "data": {
      "text/plain": [
       "'Help'"
      ]
     },
     "execution_count": 84,
     "metadata": {},
     "output_type": "execute_result"
    }
   ],
   "source": [
    "actions[np.argmax(res[4])]"
   ]
  },
  {
   "cell_type": "code",
   "execution_count": 85,
   "metadata": {},
   "outputs": [
    {
     "data": {
      "text/plain": [
       "'thanks'"
      ]
     },
     "execution_count": 85,
     "metadata": {},
     "output_type": "execute_result"
    }
   ],
   "source": [
    "actions[np.argmax(y_test[4])]"
   ]
  },
  {
   "cell_type": "markdown",
   "metadata": {},
   "source": [
    "# 9. Save Weights"
   ]
  },
  {
   "cell_type": "code",
   "execution_count": 86,
   "metadata": {},
   "outputs": [
    {
     "name": "stdout",
     "output_type": "stream",
     "text": [
      "INFO:tensorflow:Assets written to: action.h\\assets\n"
     ]
    },
    {
     "name": "stderr",
     "output_type": "stream",
     "text": [
      "INFO:tensorflow:Assets written to: action.h\\assets\n"
     ]
    }
   ],
   "source": [
    "model.save('action.h')"
   ]
  },
  {
   "cell_type": "code",
   "execution_count": 72,
   "metadata": {},
   "outputs": [],
   "source": []
  },
  {
   "cell_type": "code",
   "execution_count": 54,
   "metadata": {},
   "outputs": [
    {
     "data": {
      "text/plain": [
       "<tensorflow.python.training.tracking.util.CheckpointLoadStatus at 0x20283464d60>"
      ]
     },
     "execution_count": 54,
     "metadata": {},
     "output_type": "execute_result"
    }
   ],
   "source": [
    "model.load_weights('action.h')"
   ]
  },
  {
   "cell_type": "markdown",
   "metadata": {},
   "source": [
    "# 10. Evaluation using Confusion Matrix and Accuracy"
   ]
  },
  {
   "cell_type": "code",
   "execution_count": 88,
   "metadata": {},
   "outputs": [],
   "source": [
    "from sklearn.metrics import multilabel_confusion_matrix, accuracy_score"
   ]
  },
  {
   "cell_type": "code",
   "execution_count": 89,
   "metadata": {},
   "outputs": [
    {
     "name": "stdout",
     "output_type": "stream",
     "text": [
      "1/1 [==============================] - 0s 61ms/step\n"
     ]
    }
   ],
   "source": [
    "yhat = model.predict(X_test)"
   ]
  },
  {
   "cell_type": "code",
   "execution_count": 90,
   "metadata": {},
   "outputs": [],
   "source": [
    "ytrue = np.argmax(y_test, axis=1).tolist()\n",
    "yhat = np.argmax(yhat, axis=1).tolist()"
   ]
  },
  {
   "cell_type": "code",
   "execution_count": 91,
   "metadata": {},
   "outputs": [
    {
     "data": {
      "text/plain": [
       "array([[[29,  0],\n",
       "        [ 0,  1]],\n",
       "\n",
       "       [[25,  2],\n",
       "        [ 1,  2]],\n",
       "\n",
       "       [[25,  0],\n",
       "        [ 2,  3]],\n",
       "\n",
       "       [[26,  1],\n",
       "        [ 3,  0]],\n",
       "\n",
       "       [[21,  6],\n",
       "        [ 0,  3]],\n",
       "\n",
       "       [[27,  1],\n",
       "        [ 0,  2]],\n",
       "\n",
       "       [[27,  0],\n",
       "        [ 2,  1]],\n",
       "\n",
       "       [[20,  4],\n",
       "        [ 4,  2]],\n",
       "\n",
       "       [[25,  1],\n",
       "        [ 3,  1]]], dtype=int64)"
      ]
     },
     "execution_count": 91,
     "metadata": {},
     "output_type": "execute_result"
    }
   ],
   "source": [
    "multilabel_confusion_matrix(ytrue, yhat)"
   ]
  },
  {
   "cell_type": "code",
   "execution_count": 92,
   "metadata": {},
   "outputs": [
    {
     "data": {
      "text/plain": [
       "0.5"
      ]
     },
     "execution_count": 92,
     "metadata": {},
     "output_type": "execute_result"
    }
   ],
   "source": [
    "accuracy_score(ytrue, yhat) # model ki accuracy"
   ]
  },
  {
   "cell_type": "markdown",
   "metadata": {},
   "source": []
  }
 ],
 "metadata": {
  "kernelspec": {
   "display_name": "Python 3 (ipykernel)",
   "language": "python",
   "name": "python3"
  },
  "language_info": {
   "codemirror_mode": {
    "name": "ipython",
    "version": 3
   },
   "file_extension": ".py",
   "mimetype": "text/x-python",
   "name": "python",
   "nbconvert_exporter": "python",
   "pygments_lexer": "ipython3",
   "version": "3.9.13"
  }
 },
 "nbformat": 4,
 "nbformat_minor": 2
}
